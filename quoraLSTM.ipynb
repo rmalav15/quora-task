{
 "cells": [
  {
   "cell_type": "code",
   "execution_count": 1,
   "metadata": {
    "collapsed": true
   },
   "outputs": [],
   "source": [
    "require 'nn'\n",
    "require 'rnn'\n",
    "require 'optim'\n",
    "require 'hdf5'"
   ]
  },
  {
   "cell_type": "code",
   "execution_count": 2,
   "metadata": {
    "collapsed": true
   },
   "outputs": [],
   "source": [
    "opt = {\n",
    "    useGPU = 1,\n",
    "    loadModel = 0,\n",
    "    loadModelPath = \"models/quoraNetComp_batchSize_512_Lr_0.001_learningRateDecay_0_optimizer_adam_weightDecay_0.0005_stepDecayStep_5_epoch_15.t7\",\n",
    "    \n",
    "    batchSize = 512, --IT should be less.. But to make it faster good range 8-128 (2^i)\n",
    "    seqLen = 55,  --Assumed maximum words in sentance\n",
    "    wordVecSize = 50,\n",
    "    lstmOutputSize = 400,  --dont change\n",
    "\n",
    "    useDropout = 1,\n",
    "    dropoutProbability = 0.5,\n",
    "    useBN = 1,                    --Will take care of wieght intilization problem\n",
    "    useLeakyRelu = 0,\n",
    "    leakyReluSlope = 0.2,\n",
    "\n",
    "    useLoss = \"SoftMax\", -- \"SoftMax\" or \"SVM\" -- TAKE CARE LABEL SHOULD BE CHANGED TO 1 and -1 for \"SVM\"                      \n",
    "    svmMargin = 1,\n",
    "    optimizer = \"adam\",  --\"sgd\" or \"adam\"\n",
    "    \n",
    "    trainDataPath = \"/dataset/train10000to60000.h5py\",\n",
    "    evalDataPath = \"/dataset/train0to10000.h5py\",  \n",
    "    trainDataSize = 44020,\n",
    "    valDataSize = 8793,  --Check\n",
    "    maxTrainDataSize  = 50000,    -- Maximum to run while training\n",
    "    maxValDataSize = 50000,  \n",
    "    \n",
    "    learningRate = 0.001,\n",
    "    learningRateDecay = 0,--1e-5,  -- 1/t decay.. Set to 0 if setting step decay to true\n",
    "    weightDecay = 0.01,     -- l2 regularizer\n",
    "    momentum = 0.9,\n",
    "    nesterov = true,\n",
    "    beta1 = 0.9,\n",
    "    beta2 = 0.999,\n",
    "    epsilon = 1e-8,\n",
    "    stepDecay = false,\n",
    "    stepDecayRate = 0.5,\n",
    "    stepDecayStep = 1,\n",
    "    \n",
    "    nEpochs = 25,\n",
    "    validateAtEach  = 1,\n",
    "    saveAtEach = 10,\n",
    "    savePath =\"models/quoraNetCompFinal\",\n",
    "    trainingStatsSavePath = \"trainingStats/quoraNetCompFinal\",\n",
    "    \n",
    "    \n",
    "    wieghtIntalization = \"\" -- \"yaanLeCun\" , \"Xavier\" or \"KaimingHe\"  (NOT IMPLEMENTED FOR NOW)\n",
    "            \n",
    "}\n",
    "\n",
    "\n",
    "trainingStats = {valLoss={}, trainLoss={}, valAccuracy={}, trainAccuracy={}, learningRate = {}, options = opt}"
   ]
  },
  {
   "cell_type": "code",
   "execution_count": 3,
   "metadata": {
    "collapsed": false
   },
   "outputs": [
    {
     "data": {
      "text/plain": [
       "GPU Mode\t\n"
      ]
     },
     "execution_count": 3,
     "metadata": {},
     "output_type": "execute_result"
    }
   ],
   "source": [
    "if opt.useGPU == 0 then\n",
    "    torch.setdefaulttensortype('torch.FloatTensor')\n",
    "    print (\"CPU Mode\")\n",
    "else\n",
    "    require 'cutorch'\n",
    "    require 'cunn'\n",
    "    print (\"GPU Mode\")\n",
    "    --torch.setdefaulttensortype('torch.CudaTensor')\n",
    "end"
   ]
  },
  {
   "cell_type": "markdown",
   "metadata": {},
   "source": [
    "# LSTM Many-to-One Model"
   ]
  },
  {
   "cell_type": "code",
   "execution_count": 4,
   "metadata": {
    "collapsed": true
   },
   "outputs": [],
   "source": [
    "fullyConnectedBlock = function(nInput, nOutput, blockUseDrop, blockDropP, blockUseBN, blockUseLeakyRelu, leakySlope)\n",
    "    block = nn.Sequential()\n",
    "    block:add(nn.Linear(nInput, nOutput))\n",
    "    \n",
    "    if blockUseBN == 1 then\n",
    "        block:add(nn.BatchNormalization(nOutput))\n",
    "    end\n",
    "    \n",
    "    if blockUseLeakyRelu == 1 then\n",
    "        block:add(nn.LeakyReLU(leakySlope, True))\n",
    "    else\n",
    "        block:add(nn.ReLU(True))\n",
    "    end\n",
    "    \n",
    "    if blockUseDrop == 1 then\n",
    "        block:add(nn.Dropout(blockDropP))\n",
    "    end\n",
    "    \n",
    "    return block\n",
    "end"
   ]
  },
  {
   "cell_type": "code",
   "execution_count": 5,
   "metadata": {
    "collapsed": false
   },
   "outputs": [
    {
     "data": {
      "text/plain": [
       "creating quoraNet...\t\n"
      ]
     },
     "execution_count": 5,
     "metadata": {},
     "output_type": "execute_result"
    },
    {
     "data": {
      "text/plain": [
       "Using SoftMax\t\n",
       "adding sigmoid\t\n",
       "converting model to cuda...\t\n"
      ]
     },
     "execution_count": 5,
     "metadata": {},
     "output_type": "execute_result"
    }
   ],
   "source": [
    "if opt.loadModel == 0 then\n",
    "    print(\"creating quoraNet...\")\n",
    "    LSTM = nn.FastLSTM(opt.wordVecSize, opt.lstmOutputSize)\n",
    "    rnnSen1 = nn.Sequential()\n",
    "       :add(nn.SplitTable(1,2))\n",
    "       :add(nn.Sequencer(LSTM))\n",
    "       :add(nn.SelectTable(-1)) -- LSTM\n",
    "                                -- Many To One Mapping\n",
    "\n",
    "    --rnnSen2 = rnnSen1:clone('weight','bias');  -- Share same wieght and bias\n",
    "    rnnSen2 = rnnSen1:clone();   --Now do not share wieghts\n",
    "\n",
    "    parallelLSTMs = nn.ParallelTable()\n",
    "    parallelLSTMs:add(rnnSen1)\n",
    "    parallelLSTMs:add(rnnSen2)\n",
    "\n",
    "    quoraNet = nn.Sequential()\n",
    "    quoraNet:add(parallelLSTMs)\n",
    "    quoraNet:add(nn.JoinTable(2))\n",
    "\n",
    "    quoraNet:add(fullyConnectedBlock(800,256,opt.useDropout,opt.dropoutProbability,opt.useBN,opt.useLeakyRelu,opt.leakyReluSlope))\n",
    "    quoraNet:add(fullyConnectedBlock(256,256,opt.useDropout,opt.dropoutProbability,opt.useBN,opt.useLeakyRelu,opt.leakyReluSlope))\n",
    "    quoraNet:add(fullyConnectedBlock(256,256,opt.useDropout,opt.dropoutProbability,opt.useBN,opt.useLeakyRelu,opt.leakyReluSlope))\n",
    "    quoraNet:add(fullyConnectedBlock(256,256,opt.useDropout,opt.dropoutProbability,opt.useBN,opt.useLeakyRelu,opt.leakyReluSlope))\n",
    "    quoraNet:add(nn.Linear(256,1))\n",
    "else\n",
    "    print(\"loading quoraNet from \"..opt.loadModelPath)\n",
    "    quoraNet = torch.load(opt.loadModelPath)\n",
    "end\n",
    "\n",
    "criterion = nil\n",
    "if opt.useLoss == \"SoftMax\" then\n",
    "    print(\"Using SoftMax\")\n",
    "    \n",
    "    if opt.loadModel == 0 then\n",
    "        print(\"adding sigmoid\")\n",
    "        quoraNet:add(nn.Sigmoid())   --Dont add again if already loaded\n",
    "    end\n",
    "    \n",
    "    criterion = nn.BCECriterion()\n",
    "elseif opt.useLoss == \"SVM\" then      -- TAKE CARE LABEL SHOULD BE CHANGED TO 1 and -1\n",
    "    print(\"Using SVM\")\n",
    "    crtierion = nn.MarginCriterion(opt.svmMargin)\n",
    "else\n",
    "    error(\"Provide Correct Loss\")\n",
    "end\n",
    "\n",
    "if opt.useGPU == 1 then\n",
    "    print(\"converting model to cuda...\")\n",
    "    quoraNet:cuda()\n",
    "    criterion:cuda()\n",
    "end\n",
    "\n",
    "params,gradParams = quoraNet:getParameters()"
   ]
  },
  {
   "cell_type": "markdown",
   "metadata": {},
   "source": [
    "# Data Loader"
   ]
  },
  {
   "cell_type": "code",
   "execution_count": 6,
   "metadata": {
    "collapsed": false
   },
   "outputs": [
    {
     "data": {
      "text/plain": [
       "training batches: 85\t\n",
       "validation batches: 17\t\n"
      ]
     },
     "execution_count": 6,
     "metadata": {},
     "output_type": "execute_result"
    }
   ],
   "source": [
    "dataTrain =   hdf5.open(opt.trainDataPath,'r')\n",
    "dataEval =  hdf5.open(opt.evalDataPath,'r')\n",
    "\n",
    "nTrainBatches = math.floor(math.min(opt.trainDataSize, opt.maxTrainDataSize) / opt.batchSize)\n",
    "nValBatches = math.floor(math.min(opt.valDataSize, opt.maxValDataSize) / opt.batchSize)\n",
    "\n",
    "print((\"training batches: %d\"):format(nTrainBatches))\n",
    "print((\"validation batches: %d\"):format(nValBatches))"
   ]
  },
  {
   "cell_type": "markdown",
   "metadata": {},
   "source": [
    "# Confusiton Matrix"
   ]
  },
  {
   "cell_type": "code",
   "execution_count": 7,
   "metadata": {
    "collapsed": true
   },
   "outputs": [],
   "source": [
    "classes = {'0', '1'}\n",
    "trainConfusion = optim.ConfusionMatrix(classes) --save Confustion Matrix\n",
    "valConfusion = optim.ConfusionMatrix(classes) --save Confustion Matrix\n",
    "trainValidTable = {}\n",
    "valValidTable = {}\n",
    "\n",
    "\n",
    "function updateConfustion(confusion, class0or1, outputProb, validTable)\n",
    "    output = torch.ones(2)\n",
    "    if outputProb[1] < 0.5 then\n",
    "        output[2] = 0 \n",
    "    else \n",
    "        output[1] = 0\n",
    "    end\n",
    "    \n",
    "    target = torch.ones(2)\n",
    "    if class0or1[1] == 0 then\n",
    "        target[2] = 0\n",
    "    else\n",
    "        target[1] = 0\n",
    "    end\n",
    "    \n",
    "    if output[1] == target[1] then\n",
    "        table.insert(validTable,1)\n",
    "    else\n",
    "        table.insert(validTable,0)\n",
    "    end\n",
    "    \n",
    "    confusion:add(output, target)\n",
    "end\n",
    "\n",
    "function getAccuracy(validTable)\n",
    "    len = #validTable \n",
    "    if len == 0 then\n",
    "        return 0\n",
    "    else\n",
    "        sum = 0\n",
    "        for i = 1,len do\n",
    "            sum = sum + validTable[i]\n",
    "        end\n",
    "        return sum/len\n",
    "    end\n",
    "end   "
   ]
  },
  {
   "cell_type": "markdown",
   "metadata": {},
   "source": [
    "# TRAIN"
   ]
  },
  {
   "cell_type": "code",
   "execution_count": 8,
   "metadata": {
    "collapsed": true
   },
   "outputs": [],
   "source": [
    "sgdParam = nil\n",
    "adamParam = nil\n",
    "\n",
    "function updateSGDParam(opt)\t\n",
    "    --print(\"updating sgd param\")\n",
    "    sgdParam = {\n",
    "        learningRate = opt.learningRate,\n",
    "        learningRateDecay = opt.learningRateDecay,  -- 1/t decay\n",
    "        weightDecay = opt.weightDecay,\n",
    "        momentum = opt.momentum,\n",
    "        nesterov = opt.nesterov,\n",
    "        dampening = 0  --it should be zero for nestrov\n",
    "    }\n",
    "end\n",
    "\n",
    "function updateAdamParam(opt)\n",
    "    --print(\"updating adam param\")\n",
    "    adamParam = {\n",
    "        learningRate = opt.learningRate,\n",
    "        learningRateDecay = opt.learningRateDecay,  --1/t decay\n",
    "        weightDecay = opt.weightDecay,\n",
    "        beta1 = opt.beta1,\n",
    "        beta2 = opt.beta2,\n",
    "        epsilon = opt.epsilon\n",
    "    }\n",
    "end\n",
    "\n",
    "function stepDecayLearningRate(opt)\n",
    "    opt.learningRate = opt.stepDecayRate*opt.learningRate\n",
    "     print(\"new learning rate \"..opt.learningRate)\n",
    "    if opt.optimizer == 'sgd' then\n",
    "        updateSGDParam(opt)\n",
    "    elseif opt.optimizer == 'adam' then\n",
    "        updateAdamParam(opt)\n",
    "    else\n",
    "        error('Provide a correct optimizer')\n",
    "    end\n",
    "end"
   ]
  },
  {
   "cell_type": "code",
   "execution_count": 9,
   "metadata": {
    "collapsed": true
   },
   "outputs": [],
   "source": [
    "step = function()\n",
    "    \n",
    "    quoraNet:training()\n",
    "    nn.FastLSTM.bn = true\n",
    "    \n",
    "    local currentLoss = 0\n",
    "    -- shuffle at each epoch\n",
    "    local shuffle = torch.randperm(opt.trainDataSize)\n",
    "\n",
    "    for t = 1, nTrainBatches do \n",
    "                             -- For no of batches(seq len)\n",
    "        local feval = function(params_new)\n",
    "            \n",
    "            if params ~= params_new then params:copy(params_new) end   \n",
    "            gradParams:zero()\n",
    "\n",
    "            --quoraNet:forget() --done uncomment, sequencer will itself call it before each call to forward\n",
    "            collectgarbage()\n",
    "            \n",
    "            local question1 = torch.ones(opt.batchSize, opt.seqLen, opt.wordVecSize) --Provide size here\n",
    "            local question2 = torch.ones(opt.batchSize, opt.seqLen, opt.wordVecSize)\n",
    "            local label = torch.ones(opt.batchSize)\n",
    "            \n",
    "            local idx = 1\n",
    "            local st = opt.batchSize*(t-1)+1\n",
    "            local fn = opt.batchSize*t\n",
    "            \n",
    "            for i = st, fn do\n",
    "                question1[idx] = dataTrain:read('/question1'):partial({shuffle[i],shuffle[i]},{1,opt.seqLen},{1,opt.wordVecSize})\n",
    "                question2[idx] = dataTrain:read('/question2'):partial({shuffle[i],shuffle[i]},{1,opt.seqLen},{1,opt.wordVecSize})\n",
    "                label[idx] = dataTrain:read('/label'):partial({shuffle[i],shuffle[i]})\n",
    "                idx = idx + 1\n",
    "            end\n",
    "            \n",
    "            label = label:resize(opt.batchSize,1)\n",
    "            -- Add Normaliztion here-- question1:add(-mean[i]) -- mean subtraction\n",
    "            \n",
    "            if opt.useGPU == 1 then\n",
    "                question1 = question1:cuda()\n",
    "                question2 = question2:cuda()\n",
    "                label = label:cuda()\n",
    "            end\n",
    "\n",
    "            --FORWARD PASS\n",
    "            local outputs = quoraNet:forward({question1,question2})\n",
    "            local loss = criterion:forward(outputs, label)\n",
    "            \n",
    "            --BACKWARD PASS\n",
    "            local dloss_doutput = criterion:backward(outputs, label)\n",
    "            quoraNet:backward({question1,question2}, dloss_doutput)\n",
    "            \n",
    "            for i  = 1,opt.batchSize do\n",
    "                updateConfustion(trainConfusion, label[i], outputs[i], trainValidTable)\n",
    "            end\n",
    "\n",
    "            return loss,gradParams\n",
    "        end\n",
    "            \n",
    "        if opt.optimizer == 'sgd' then\n",
    "            updateSGDParam(opt)\n",
    "            _ , fs = optim.sgd(feval,params,sgdParam)\n",
    "\n",
    "        elseif opt.optimizer == 'adam' then\n",
    "            updateAdamParam(opt)\n",
    "            _ , fs = optim.adam(feval,params,adamParam)\n",
    "\n",
    "        else\n",
    "            error('unknown optimizer')\n",
    "        end\n",
    "\n",
    "        currentLoss = currentLoss + fs[1]\n",
    "    end\n",
    "\n",
    "    return currentLoss/nTrainBatches\n",
    "end\n"
   ]
  },
  {
   "cell_type": "markdown",
   "metadata": {},
   "source": [
    "# Validation"
   ]
  },
  {
   "cell_type": "code",
   "execution_count": 10,
   "metadata": {
    "collapsed": true
   },
   "outputs": [],
   "source": [
    "eval = function()\n",
    "    \n",
    "    local currentLoss = 0\n",
    "    \n",
    "    quoraNet:evaluate()\n",
    "    nn.FastLSTM.bn = false\n",
    "    \n",
    "    for t = 1,nValBatches do    --Evaluation Batch Size\n",
    "        \n",
    "        collectgarbage()\n",
    "        local st = opt.batchSize*(t-1)+1\n",
    "        local fn = opt.batchSize*t\n",
    "        \n",
    "        local question1 = dataEval:read('/question1'):partial({st,fn},{1,opt.seqLen},{1,opt.wordVecSize})\n",
    "        local question2 = dataEval:read('/question2'):partial({st,fn},{1,opt.seqLen},{1,opt.wordVecSize})\n",
    "        local label = dataEval:read('/label'):partial({st,fn})\n",
    "        label = label:float():resize(opt.batchSize,1)\n",
    "        \n",
    "        -- Add Normaliztion here-- question1:add(-mean[i]) -- mean subtraction\n",
    "        if opt.useGPU == 1 then\n",
    "                question1 = question1:cuda()\n",
    "                question2 = question2:cuda()\n",
    "                label = label:cuda()\n",
    "        end\n",
    "\n",
    "        \n",
    "       --FORWARD PASS\n",
    "        local outputs = quoraNet:forward({question1,question2})\n",
    "        local loss = criterion:forward(outputs, label)\n",
    "        \n",
    "        for i  = 1,opt.batchSize do\n",
    "            updateConfustion(valConfusion, label[i], outputs[i], valValidTable)\n",
    "        end\n",
    "       \n",
    "        currentLoss = currentLoss + loss\n",
    "    end\n",
    "\n",
    "    return currentLoss/nValBatches\n",
    "end"
   ]
  },
  {
   "cell_type": "markdown",
   "metadata": {},
   "source": [
    "# Controller"
   ]
  },
  {
   "cell_type": "code",
   "execution_count": 11,
   "metadata": {
    "collapsed": false
   },
   "outputs": [
    {
     "data": {
      "text/plain": [
       "End of epoch 1 / 25 \t Training loss: 0.655250 \t Training accuracy: 0.616 \t Time Taken: 82.064\t\n"
      ]
     },
     "execution_count": 11,
     "metadata": {},
     "output_type": "execute_result"
    },
    {
     "data": {
      "text/plain": [
       "Validation after epoch 1  \t Validation loss: 0.634926 \t Validation accuracy: 0.642  \t Time Taken: 2.371\t\n"
      ]
     },
     "execution_count": 11,
     "metadata": {},
     "output_type": "execute_result"
    },
    {
     "data": {
      "text/plain": [
       "End of epoch 2 / 25 \t Training loss: 0.623192 \t Training accuracy: 0.657 \t Time Taken: 47.433\t\n"
      ]
     },
     "execution_count": 11,
     "metadata": {},
     "output_type": "execute_result"
    },
    {
     "data": {
      "text/plain": [
       "Validation after epoch 2  \t Validation loss: 0.653546 \t Validation accuracy: 0.625  \t Time Taken: 2.312\t\n"
      ]
     },
     "execution_count": 11,
     "metadata": {},
     "output_type": "execute_result"
    },
    {
     "data": {
      "text/plain": [
       "End of epoch 3 / 25 \t Training loss: 0.615361 \t Training accuracy: 0.665 \t Time Taken: 47.509\t\n"
      ]
     },
     "execution_count": 11,
     "metadata": {},
     "output_type": "execute_result"
    },
    {
     "data": {
      "text/plain": [
       "Validation after epoch 3  \t Validation loss: 0.674918 \t Validation accuracy: 0.619  \t Time Taken: 2.304\t\n"
      ]
     },
     "execution_count": 11,
     "metadata": {},
     "output_type": "execute_result"
    },
    {
     "data": {
      "text/plain": [
       "End of epoch 4 / 25 \t Training loss: 0.611029 \t Training accuracy: 0.669 \t Time Taken: 47.464\t\n"
      ]
     },
     "execution_count": 11,
     "metadata": {},
     "output_type": "execute_result"
    },
    {
     "data": {
      "text/plain": [
       "Validation after epoch 4  \t Validation loss: 0.647884 \t Validation accuracy: 0.627  \t Time Taken: 2.307\t\n"
      ]
     },
     "execution_count": 11,
     "metadata": {},
     "output_type": "execute_result"
    },
    {
     "data": {
      "text/plain": [
       "End of epoch 5 / 25 \t Training loss: 0.608444 \t Training accuracy: 0.673 \t Time Taken: 47.447\t\n"
      ]
     },
     "execution_count": 11,
     "metadata": {},
     "output_type": "execute_result"
    },
    {
     "data": {
      "text/plain": [
       "Validation after epoch 5  \t Validation loss: 0.654168 \t Validation accuracy: 0.624  \t Time Taken: 2.301\t\n"
      ]
     },
     "execution_count": 11,
     "metadata": {},
     "output_type": "execute_result"
    },
    {
     "data": {
      "text/plain": [
       "End of epoch 6 / 25 \t Training loss: 0.602635 \t Training accuracy: 0.676 \t Time Taken: 47.507\t\n"
      ]
     },
     "execution_count": 11,
     "metadata": {},
     "output_type": "execute_result"
    },
    {
     "data": {
      "text/plain": [
       "Validation after epoch 6  \t Validation loss: 0.629736 \t Validation accuracy: 0.657  \t Time Taken: 2.304\t\n"
      ]
     },
     "execution_count": 11,
     "metadata": {},
     "output_type": "execute_result"
    },
    {
     "data": {
      "text/plain": [
       "End of epoch 7 / 25 \t Training loss: 0.601257 \t Training accuracy: 0.677 \t Time Taken: 47.441\t\n"
      ]
     },
     "execution_count": 11,
     "metadata": {},
     "output_type": "execute_result"
    },
    {
     "data": {
      "text/plain": [
       "Validation after epoch 7  \t Validation loss: 0.615585 \t Validation accuracy: 0.661  \t Time Taken: 2.308\t\n"
      ]
     },
     "execution_count": 11,
     "metadata": {},
     "output_type": "execute_result"
    },
    {
     "data": {
      "text/plain": [
       "End of epoch 8 / 25 \t Training loss: 0.600946 \t Training accuracy: 0.676 \t Time Taken: 47.490\t\n"
      ]
     },
     "execution_count": 11,
     "metadata": {},
     "output_type": "execute_result"
    },
    {
     "data": {
      "text/plain": [
       "Validation after epoch 8  \t Validation loss: 0.616889 \t Validation accuracy: 0.656  \t Time Taken: 2.303\t\n"
      ]
     },
     "execution_count": 11,
     "metadata": {},
     "output_type": "execute_result"
    },
    {
     "data": {
      "text/plain": [
       "End of epoch 9 / 25 \t Training loss: 0.598660 \t Training accuracy: 0.680 \t Time Taken: 47.416\t\n"
      ]
     },
     "execution_count": 11,
     "metadata": {},
     "output_type": "execute_result"
    },
    {
     "data": {
      "text/plain": [
       "Validation after epoch 9  \t Validation loss: 0.612427 \t Validation accuracy: 0.666  \t Time Taken: 2.306\t\n"
      ]
     },
     "execution_count": 11,
     "metadata": {},
     "output_type": "execute_result"
    },
    {
     "data": {
      "text/plain": [
       "End of epoch 10 / 25 \t Training loss: 0.596375 \t Training accuracy: 0.681 \t Time Taken: 47.348\t\n"
      ]
     },
     "execution_count": 11,
     "metadata": {},
     "output_type": "execute_result"
    },
    {
     "data": {
      "text/plain": [
       "Validation after epoch 10  \t Validation loss: 0.610249 \t Validation accuracy: 0.661  \t Time Taken: 2.287\t\n",
       "saving network at stage10...\t\n"
      ]
     },
     "execution_count": 11,
     "metadata": {},
     "output_type": "execute_result"
    },
    {
     "data": {
      "text/plain": [
       "End of epoch 11 / 25 \t Training loss: 0.596484 \t Training accuracy: 0.682 \t Time Taken: 47.559\t\n"
      ]
     },
     "execution_count": 11,
     "metadata": {},
     "output_type": "execute_result"
    },
    {
     "data": {
      "text/plain": [
       "Validation after epoch 11  \t Validation loss: 0.613463 \t Validation accuracy: 0.659  \t Time Taken: 2.327\t\n"
      ]
     },
     "execution_count": 11,
     "metadata": {},
     "output_type": "execute_result"
    },
    {
     "data": {
      "text/plain": [
       "End of epoch 12 / 25 \t Training loss: 0.593123 \t Training accuracy: 0.687 \t Time Taken: 47.370\t\n"
      ]
     },
     "execution_count": 11,
     "metadata": {},
     "output_type": "execute_result"
    },
    {
     "data": {
      "text/plain": [
       "Validation after epoch 12  \t Validation loss: 0.611150 \t Validation accuracy: 0.656  \t Time Taken: 2.319\t"
      ]
     },
     "execution_count": 11,
     "metadata": {},
     "output_type": "execute_result"
    },
    {
     "data": {
      "text/plain": [
       "\n"
      ]
     },
     "execution_count": 11,
     "metadata": {},
     "output_type": "execute_result"
    },
    {
     "data": {
      "text/plain": [
       "End of epoch 13 / 25 \t Training loss: 0.590095 \t Training accuracy: 0.690 \t Time Taken: 47.383\t\n"
      ]
     },
     "execution_count": 11,
     "metadata": {},
     "output_type": "execute_result"
    },
    {
     "data": {
      "text/plain": [
       "Validation after epoch 13  \t Validation loss: 0.605594 \t Validation accuracy: 0.673  \t Time Taken: 2.317\t\n"
      ]
     },
     "execution_count": 11,
     "metadata": {},
     "output_type": "execute_result"
    },
    {
     "data": {
      "text/plain": [
       "End of epoch 14 / 25 \t Training loss: 0.591056 \t Training accuracy: 0.690 \t Time Taken: 47.357\t\n"
      ]
     },
     "execution_count": 11,
     "metadata": {},
     "output_type": "execute_result"
    },
    {
     "data": {
      "text/plain": [
       "Validation after epoch 14  \t Validation loss: 0.609548 \t Validation accuracy: 0.661  \t Time Taken: 2.317\t\n"
      ]
     },
     "execution_count": 11,
     "metadata": {},
     "output_type": "execute_result"
    },
    {
     "data": {
      "text/plain": [
       "End of epoch 15 / 25 \t Training loss: 0.588480 \t Training accuracy: 0.691 \t Time Taken: 47.311\t\n"
      ]
     },
     "execution_count": 11,
     "metadata": {},
     "output_type": "execute_result"
    },
    {
     "data": {
      "text/plain": [
       "Validation after epoch 15  \t Validation loss: 0.614511 \t Validation accuracy: 0.653  \t Time Taken: 2.318\t\n"
      ]
     },
     "execution_count": 11,
     "metadata": {},
     "output_type": "execute_result"
    },
    {
     "data": {
      "text/plain": [
       "End of epoch 16 / 25 \t Training loss: 0.588689 \t Training accuracy: 0.689 \t Time Taken: 47.294\t\n"
      ]
     },
     "execution_count": 11,
     "metadata": {},
     "output_type": "execute_result"
    },
    {
     "data": {
      "text/plain": [
       "Validation after epoch 16  \t Validation loss: 0.610506 \t Validation accuracy: 0.667  \t Time Taken: 2.325\t\n"
      ]
     },
     "execution_count": 11,
     "metadata": {},
     "output_type": "execute_result"
    },
    {
     "data": {
      "text/plain": [
       "End of epoch 17 / 25 \t Training loss: 0.587780 \t Training accuracy: 0.692 \t Time Taken: 47.404\t\n"
      ]
     },
     "execution_count": 11,
     "metadata": {},
     "output_type": "execute_result"
    },
    {
     "data": {
      "text/plain": [
       "Validation after epoch 17  \t Validation loss: 0.616373 \t Validation accuracy: 0.655  \t Time Taken: 2.312\t\n"
      ]
     },
     "execution_count": 11,
     "metadata": {},
     "output_type": "execute_result"
    },
    {
     "data": {
      "text/plain": [
       "End of epoch 18 / 25 \t Training loss: 0.585842 \t Training accuracy: 0.692 \t Time Taken: 47.327\t\n"
      ]
     },
     "execution_count": 11,
     "metadata": {},
     "output_type": "execute_result"
    },
    {
     "data": {
      "text/plain": [
       "Validation after epoch 18  \t Validation loss: 0.594728 \t Validation accuracy: 0.683  \t Time Taken: 2.312\t\n"
      ]
     },
     "execution_count": 11,
     "metadata": {},
     "output_type": "execute_result"
    },
    {
     "data": {
      "text/plain": [
       "End of epoch 19 / 25 \t Training loss: 0.585506 \t Training accuracy: 0.693 \t Time Taken: 47.324\t\n"
      ]
     },
     "execution_count": 11,
     "metadata": {},
     "output_type": "execute_result"
    },
    {
     "data": {
      "text/plain": [
       "Validation after epoch 19  \t Validation loss: 0.604563 \t Validation accuracy: 0.672  \t Time Taken: 2.320\t\n"
      ]
     },
     "execution_count": 11,
     "metadata": {},
     "output_type": "execute_result"
    },
    {
     "data": {
      "text/plain": [
       "End of epoch 20 / 25 \t Training loss: 0.583592 \t Training accuracy: 0.694 \t Time Taken: 47.340\t\n"
      ]
     },
     "execution_count": 11,
     "metadata": {},
     "output_type": "execute_result"
    },
    {
     "data": {
      "text/plain": [
       "Validation after epoch 20  \t Validation loss: 0.597635 \t Validation accuracy: 0.679  \t Time Taken: 2.318\t\n",
       "saving network at stage20...\t\n"
      ]
     },
     "execution_count": 11,
     "metadata": {},
     "output_type": "execute_result"
    },
    {
     "data": {
      "text/plain": [
       "End of epoch 21 / 25 \t Training loss: 0.584525 \t Training accuracy: 0.693 \t Time Taken: 47.475\t\n"
      ]
     },
     "execution_count": 11,
     "metadata": {},
     "output_type": "execute_result"
    },
    {
     "data": {
      "text/plain": [
       "Validation after epoch 21  \t Validation loss: 0.594377 \t Validation accuracy: 0.681  \t Time Taken: 2.311\t\n"
      ]
     },
     "execution_count": 11,
     "metadata": {},
     "output_type": "execute_result"
    },
    {
     "data": {
      "text/plain": [
       "End of epoch 22 / 25 \t Training loss: 0.583298 \t Training accuracy: 0.694 \t Time Taken: 47.308\t\n"
      ]
     },
     "execution_count": 11,
     "metadata": {},
     "output_type": "execute_result"
    },
    {
     "data": {
      "text/plain": [
       "Validation after epoch 22  \t Validation loss: 0.609590 \t Validation accuracy: 0.664  \t Time Taken: 2.323\t\n"
      ]
     },
     "execution_count": 11,
     "metadata": {},
     "output_type": "execute_result"
    },
    {
     "data": {
      "text/plain": [
       "End of epoch 23 / 25 \t Training loss: 0.582748 \t Training accuracy: 0.696 \t Time Taken: 47.331\t\n"
      ]
     },
     "execution_count": 11,
     "metadata": {},
     "output_type": "execute_result"
    },
    {
     "data": {
      "text/plain": [
       "Validation after epoch 23  \t Validation loss: 0.611854 \t Validation accuracy: 0.665  \t Time Taken: 2.313\t\n"
      ]
     },
     "execution_count": 11,
     "metadata": {},
     "output_type": "execute_result"
    },
    {
     "data": {
      "text/plain": [
       "End of epoch 24 / 25 \t Training loss: 0.581586 \t Training accuracy: 0.696 \t Time Taken: 47.362\t\n"
      ]
     },
     "execution_count": 11,
     "metadata": {},
     "output_type": "execute_result"
    },
    {
     "data": {
      "text/plain": [
       "Validation after epoch 24  \t Validation loss: 0.591917 \t Validation accuracy: 0.685  \t Time Taken: 2.320\t\n"
      ]
     },
     "execution_count": 11,
     "metadata": {},
     "output_type": "execute_result"
    },
    {
     "data": {
      "text/plain": [
       "End of epoch 25 / 25 \t Training loss: 0.580067 \t Training accuracy: 0.698 \t Time Taken: 47.374\t\n"
      ]
     },
     "execution_count": 11,
     "metadata": {},
     "output_type": "execute_result"
    },
    {
     "data": {
      "text/plain": [
       "Validation after epoch 25  \t Validation loss: 0.608005 \t Validation accuracy: 0.669  \t Time Taken: 2.317\t\n",
       "Total Time Taken: 1278.073\t\n",
       "\n",
       "\n",
       "\n",
       "\t\n",
       "trainConfusion: \t\n",
       "ConfusionMatrix:\n",
       "[[   20824    5514]   79.064% \t[class: 0]\n",
       " [    7644    9538]]  55.512% \t[class: 1]\n",
       " + average row correct: 67.288026213646% \n",
       " + average rowUcol correct (VOC measure): 51.652263104916% \n",
       " + global correct: 69.765625%\n",
       "{\n",
       "  _mat_flat : LongTensor - size: 4\n",
       "  valids : FloatTensor - size: 2\n",
       "  mat : LongTensor - size: 2x2\n",
       "  averageUnionValid : 0.51652263104916\n"
      ]
     },
     "execution_count": 11,
     "metadata": {},
     "output_type": "execute_result"
    },
    {
     "data": {
      "text/plain": [
       "  _targ_idx : LongTensor - size: 1\n",
       "  averageValid : 0.67288026213646\n",
       "  classes : \n",
       "    {\n",
       "      1 : 0\n",
       "      2 : 1\n",
       "    }\n",
       "  _prediction : FloatTensor - size: 2\n",
       "  _pred_idx : LongTensor - size: 1\n",
       "  nclasses : 2\n",
       "  _max : FloatTensor - size: 1\n",
       "  _target : FloatTensor - size: 2\n",
       "  unionvalids : FloatTensor - size: 2\n",
       "  totalValid : 0.69765625\n",
       "}\n",
       "\n",
       "\n",
       "\n",
       "\t\n",
       "valConfusion: \t\n",
       "ConfusionMatrix:\n",
       "[[    4511     756]   85.646% \t[class: 0]\n",
       " [    2122    1315]]  38.260% \t[class: 1]\n",
       " + average row correct: 61.953295767307% \n",
       " + average rowUcol correct (VOC measure): 46.206003427505% \n",
       " + global correct: 66.934742647059%\n",
       "{\n",
       "  _mat_flat : LongTensor - size: 4\n",
       "  valids : FloatTensor - size: 2\n",
       "  mat : LongTensor - size: 2x2\n",
       "  averageUnionValid : 0.46206003427505\n",
       "  _targ_idx : LongTensor - size: 1\n",
       "  averageValid : 0.61953295767307\n",
       "  classes : \n",
       "    {\n",
       "      1 : 0\n",
       "      2 : 1\n",
       "    }\n",
       "  _prediction : FloatTensor - size: 2\n",
       "  _pred_idx : LongTensor - size: 1\n",
       "  nclasses : 2\n",
       "  _max : FloatTensor - size: 1\n",
       "  _target : FloatTensor - size: 2\n",
       "  unionvalids : FloatTensor - size: 2\n",
       "  totalValid : 0.66934742647059\n",
       "}\n",
       "\n",
       "\n",
       "\n",
       "\t\n",
       "trainingStats.trainLoss: \t\n",
       "{\n",
       "  1 : 0.65524952972637\n",
       "  2 : 0.62319188258227\n",
       "  3 : 0.61536123472102\n",
       "  4 : 0.61102855766521\n",
       "  5 : 0.6084435357767\n",
       "  6 : 0.60263455124462\n",
       "  7 : 0.60125695957857\n",
       "  8 : 0.60094646425808\n",
       "  9 : 0.59865956166211\n",
       "  10 : 0.59637489178601\n",
       "  11 : 0.59648404331768\n",
       "  12 : 0.59312341353473\n",
       "  13 : 0.59009544779273\n",
       "  14 : 0.59105639738195\n",
       "  15 : 0.58847968297846\n",
       "  16 : 0.58868948361453\n",
       "  17 : 0.58777974072625\n",
       "  18 : 0.58584154002807\n",
       "  19 : 0.58550574358772\n",
       "  20 : 0.58359182862674\n",
       "  21 : 0.58452489726684\n",
       "  22 : 0.58329799666124\n",
       "  23 : 0.58274761298124\n",
       "  24 : 0.58158570878646\n",
       "  25 : 0.5800674403415\n",
       "}\n",
       "\n",
       "\n",
       "\n",
       "\t\n",
       "trainingStats.trainAccuracy: \t\n",
       "{\n",
       "  1 : 0.61564797794118\n",
       "  2 : 0.65684742647059\n",
       "  3 : 0.66548713235294\n",
       "  4 : 0.66854319852941\n",
       "  5 : 0.67306985294118\n",
       "  6 : 0.67587316176471\n",
       "  7 : 0.67734375\n",
       "  8 : 0.67591911764706\n",
       "  9 : 0.68019301470588\n",
       "  10 : 0.68145680147059\n",
       "  11 : 0.68223805147059\n",
       "  12 : 0.68662683823529\n",
       "  13 : 0.68968290441176\n",
       "  14 : 0.68984375\n",
       "  15 : 0.69115349264706\n",
       "  16 : 0.68949908088235\n",
       "  17 : 0.69223345588235\n",
       "  18 : 0.69188878676471\n",
       "  19 : 0.69303768382353\n",
       "  20 : 0.69377297794118\n",
       "  21 : 0.69283088235294\n",
       "  22 : 0.69441636029412\n",
       "  23 : 0.69646139705882\n",
       "  24 : 0.69595588235294\n",
       "  25 : 0.69765625\n",
       "}\n",
       "\n",
       "\n",
       "\n",
       "\t\n",
       "trainingStats.valLoss: \t\n",
       "{\n",
       "  1 : 0.63492571956971\n",
       "  2 : 0.65354597217896\n",
       "  3 : 0.67491831148372\n",
       "  4 : 0.6478835624807\n",
       "  5 : 0.6541680728688\n",
       "  6 : 0.62973634285085\n",
       "  7 : 0.61558539727155\n",
       "  8 : 0.61688909460517\n",
       "  9 : 0.61242708037881\n",
       "  10 : 0.61024885317859\n",
       "  11 : 0.6134631914251\n",
       "  12 : 0.61114971777972\n",
       "  13 : 0.60559411609874\n",
       "  14 : 0.60954831277623\n",
       "  15 : 0.6145114162389\n",
       "  16 : 0.61050632771324\n"
      ]
     },
     "execution_count": 11,
     "metadata": {},
     "output_type": "execute_result"
    },
    {
     "data": {
      "text/plain": [
       "  17 : 0.61637305161532\n",
       "  18 : 0.59472835063934\n",
       "  19 : 0.60456253500546\n",
       "  20 : 0.5976347747971\n",
       "  21 : 0.59437658155666\n",
       "  22 : 0.6095895521781\n",
       "  23 : 0.61185369421454\n",
       "  24 : 0.59191671539755\n",
       "  25 : 0.60800486101824\n",
       "}\n",
       "\n",
       "\n",
       "\n",
       "\t\n",
       "trainingStats.valAccuracy: \t\n",
       "{\n",
       "  1 : 0.64234834558824\n",
       "  2 : 0.62522977941176\n",
       "  3 : 0.61937040441176\n",
       "  4 : 0.626953125\n",
       "  5 : 0.62431066176471\n",
       "  6 : 0.65682444852941\n",
       "  7 : 0.66096047794118\n",
       "  8 : 0.65625\n",
       "  9 : 0.66567095588235\n",
       "  10 : 0.66107536764706\n",
       "  11 : 0.65866268382353\n",
       "  12 : 0.65590533088235\n",
       "  13 : 0.67279411764706\n",
       "  14 : 0.66061580882353\n",
       "  15 : 0.65303308823529\n",
       "  16 : 0.66727941176471\n",
       "  17 : 0.65521599264706\n",
       "  18 : 0.68347886029412\n",
       "  19 : 0.67221966911765\n",
       "  20 : 0.67899816176471\n",
       "  21 : 0.68072150735294\n",
       "  22 : 0.66394761029412\n",
       "  23 : 0.66486672794118\n",
       "  24 : 0.68520220588235\n",
       "  25 : 0.66934742647059\n",
       "}\n"
      ]
     },
     "execution_count": 11,
     "metadata": {},
     "output_type": "execute_result"
    }
   ],
   "source": [
    "--- timer\n",
    "local epoch_tm = torch.Timer()\n",
    "local tm = torch.Timer()\n",
    "\n",
    "for epoch = 1,opt.nEpochs do         -- FOR EPOCHS\n",
    "    \n",
    "    --StepDecayLearningRate\n",
    "    if opt.stepDecay == true then\n",
    "        if epoch%opt.stepDecayStep == 0 then\n",
    "            print(\"step decay learning rate at ephoch: \"..epoch)\n",
    "            stepDecayLearningRate(opt)\n",
    "        end\n",
    "    end\n",
    "    \n",
    "    epoch_tm:reset()\n",
    "    trainConfusion:zero()\n",
    "    trainValidTable = {}\n",
    "    \n",
    "    local loss = step()\n",
    "    local trainAcc = getAccuracy(trainValidTable)\n",
    "    print(('End of epoch %d / %d \\t Training loss: %4f \\t Training accuracy: %0.3f \\t Time Taken: %.3f'):\n",
    "        format(epoch, opt.nEpochs, loss, trainAcc, epoch_tm:time().real))\n",
    "    table.insert(trainingStats.trainLoss, loss)\n",
    "    table.insert(trainingStats.trainAccuracy,  trainAcc)\n",
    "    \n",
    "    --print(trainConfusion)\n",
    "   \n",
    "    \n",
    "    if epoch%opt.validateAtEach == 0 then   \n",
    "      \n",
    "        epoch_tm:reset()\n",
    "        valConfusion:zero()\n",
    "        valValidTable = {}\n",
    "        \n",
    "        local validation_loss = eval()\n",
    "        local valAcc = getAccuracy(valValidTable)\n",
    "        \n",
    "        print(('Validation after epoch %d  \\t Validation loss: %4f \\t Validation accuracy: %0.3f  \\t Time Taken: %.3f'):\n",
    "        format(epoch, validation_loss, valAcc, epoch_tm:time().real))\n",
    "        table.insert(trainingStats.valLoss, validation_loss)  \n",
    "        table.insert(trainingStats.valAccuracy, valAcc)\n",
    "     \n",
    "        --print(valConfusion)\n",
    "    end\n",
    "\n",
    "    if epoch%opt.saveAtEach == 0  then\n",
    "      print('saving network at stage'..epoch..'...')\n",
    "      torch.save(opt.savePath..'_batchSize_'..opt.batchSize..'_Lr_'..opt.learningRate..'_learningRateDecay_'..opt.learningRateDecay..'_optimizer_'..opt.optimizer..'_weightDecay_'..opt.weightDecay..'_stepDecayStep_'..opt.stepDecayStep..'_epoch_'..epoch..'.t7', quoraNet:clearState())\n",
    "      torch.save(opt.trainingStatsSavePath..'_batchSize_'..opt.batchSize..'_Lr_'..opt.learningRate..'_learningRateDecay_'..opt.learningRateDecay..'_optimizer_'..opt.optimizer..'_weightDecay_'..opt.weightDecay..'_stepDecayStep_'..opt.stepDecayStep..'_epoch_'..epoch..'.t7', trainingStats)\n",
    "    end\n",
    "\n",
    "end\n",
    "\n",
    "torch.save(opt.trainingStatsSavePath..'_batchSize_'..opt.batchSize..'_Lr_'..opt.learningRate..'_learningRateDecay_'..opt.learningRateDecay..'_optimizer_'..opt.optimizer..'_weightDecay_'..opt.weightDecay..'_stepDecayStep_'..opt.stepDecayStep..'_final.t7', trainingStats)\n",
    "print(('Total Time Taken: %.3f'):\n",
    "        format(tm:time().real))\n",
    "print(\"\\n\\n\\n\")\n",
    "print(\"trainConfusion: \")\n",
    "print(trainConfusion)\n",
    "print(\"\\n\\n\\n\")\n",
    "print(\"valConfusion: \")\n",
    "print(valConfusion)\n",
    "print(\"\\n\\n\\n\")\n",
    "print(\"trainingStats.trainLoss: \")\n",
    "print(trainingStats.trainLoss)\n",
    "print(\"\\n\\n\\n\")\n",
    "print(\"trainingStats.trainAccuracy: \")\n",
    "print(trainingStats.trainAccuracy)\n",
    "print(\"\\n\\n\\n\")\n",
    "print(\"trainingStats.valLoss: \")\n",
    "print(trainingStats.valLoss)\n",
    "print(\"\\n\\n\\n\")\n",
    "print(\"trainingStats.valAccuracy: \")\n",
    "print(trainingStats.valAccuracy)\n",
    "\n",
    "dataTrain:close()\n",
    "dataEval:close()"
   ]
  },
  {
   "cell_type": "markdown",
   "metadata": {},
   "source": [
    "# Ploting"
   ]
  },
  {
   "cell_type": "code",
   "execution_count": 12,
   "metadata": {
    "collapsed": false
   },
   "outputs": [
    {
     "data": {
      "text/html": [
       "<script type=\"text/javascript\">\n",
       "$(function() {\n",
       "    if (typeof (window._bokeh_onload_callbacks) === \"undefined\"){\n",
       "  window._bokeh_onload_callbacks = [];\n",
       "    }\n",
       "    function load_lib(url, callback){\n",
       "  window._bokeh_onload_callbacks.push(callback);\n",
       "  if (window._bokeh_is_loading){\n",
       "      console.log(\"Bokeh: BokehJS is being loaded, scheduling callback at\", new Date());\n",
       "      return null;\n",
       "  }\n",
       "  console.log(\"Bokeh: BokehJS not loaded, scheduling load and callback at\", new Date());\n",
       "  window._bokeh_is_loading = true;\n",
       "  var s = document.createElement('script');\n",
       "  s.src = url;\n",
       "  s.async = true;\n",
       "  s.onreadystatechange = s.onload = function(){\n",
       "      Bokeh.embed.inject_css(\"https://cdn.pydata.org/bokeh-0.7.0.min.css\");\n",
       "      window._bokeh_onload_callbacks.forEach(function(callback){callback()});\n",
       "  };\n",
       "  s.onerror = function(){\n",
       "      console.warn(\"failed to load library \" + url);\n",
       "  };\n",
       "  document.getElementsByTagName(\"head\")[0].appendChild(s);\n",
       "    }\n",
       "\n",
       "    bokehjs_url = \"https://cdn.pydata.org/bokeh-0.7.0.min.js\"\n",
       "\n",
       "    var elt = document.getElementById(\"71c762a4-7339-4c46-cc34-a9cde1830045\");\n",
       "    if(elt==null) {\n",
       "  console.log(\"Bokeh: ERROR: autoload.js configured with elementid '71c762a4-7339-4c46-cc34-a9cde1830045'\"\n",
       "        + \"but no matching script tag was found. \")\n",
       "  return false;\n",
       "    }\n",
       "\n",
       "    if(typeof(Bokeh) !== \"undefined\") {\n",
       "  console.log(\"Bokeh: BokehJS loaded, going straight to plotting\");\n",
       "  var modelid = \"a49f8f88-172c-43fc-c36e-1e4be944b303\";\n",
       "  var modeltype = \"Plot\";\n",
       "  var all_models = [{\"id\":\"4c92973d-d7fe-41e5-c1dd-b80d028b6905\",\"type\":\"ColumnDataSource\",\"attributes\":{\"data\":{\"y\":[0.65524952972637,0.62319188258227,0.61536123472102,0.61102855766521,0.6084435357767,0.60263455124462,0.60125695957857,0.60094646425808,0.59865956166211,0.59637489178601,0.59648404331768,0.59312341353473,0.59009544779273,0.59105639738195,0.58847968297846,0.58868948361453,0.58777974072625,0.58584154002807,0.58550574358772,0.58359182862674,0.58452489726684,0.58329799666124,0.58274761298124,0.58158570878646,0.5800674403415],\"x\":[1,2,3,4,5,6,7,8,9,10,11,12,13,14,15,16,17,18,19,20,21,22,23,24,25]},\"column_names\":[\"y\",\"x\"],\"cont_ranges\":{},\"discrete_ranges\":{},\"selected\":[],\"id\":\"4c92973d-d7fe-41e5-c1dd-b80d028b6905\",\"doc\":null,\"tags\":[]}},{\"id\":\"c1b533d8-3c18-4cdd-cc47-403647fe1018\",\"type\":\"Line\",\"attributes\":{\"fill_alpha\":{\"units\":\"data\",\"value\":0.2},\"line_alpha\":{\"units\":\"data\",\"value\":1},\"doc\":null,\"size\":{\"units\":\"screen\",\"value\":10},\"fill_color\":{\"value\":\"red\"},\"line_color\":{\"value\":\"red\"},\"x\":{\"units\":\"data\",\"field\":\"x\"},\"id\":\"c1b533d8-3c18-4cdd-cc47-403647fe1018\",\"y\":{\"units\":\"data\",\"field\":\"y\"},\"tags\":[]}},{\"id\":\"f7004df0-ddf7-4d03-cdb8-4fa1de6e3bcf\",\"type\":\"Line\",\"attributes\":{\"fill_alpha\":{\"units\":\"data\",\"value\":0.2},\"line_alpha\":{\"units\":\"data\",\"value\":1},\"doc\":null,\"size\":{\"units\":\"screen\",\"value\":10},\"fill_color\":{\"value\":\"red\"},\"line_color\":{\"value\":\"red\"},\"x\":{\"units\":\"data\",\"field\":\"x\"},\"id\":\"f7004df0-ddf7-4d03-cdb8-4fa1de6e3bcf\",\"y\":{\"units\":\"data\",\"field\":\"y\"},\"tags\":[]}},{\"id\":\"fc73a7e6-7404-4f02-cf0e-21bbb4c021ef\",\"type\":\"GlyphRenderer\",\"attributes\":{\"name\":null,\"nonselection_glyph\":{\"type\":\"Line\",\"id\":\"f7004df0-ddf7-4d03-cdb8-4fa1de6e3bcf\"},\"doc\":null,\"server_data_source\":null,\"data_source\":{\"type\":\"ColumnDataSource\",\"id\":\"4c92973d-d7fe-41e5-c1dd-b80d028b6905\"},\"glyph\":{\"type\":\"Line\",\"id\":\"c1b533d8-3c18-4cdd-cc47-403647fe1018\"},\"selection_glyph\":null,\"id\":\"fc73a7e6-7404-4f02-cf0e-21bbb4c021ef\",\"tags\":[]}},{\"id\":\"3341b4ae-cbb7-4b06-cb09-af6b68284b67\",\"type\":\"ColumnDataSource\",\"attributes\":{\"data\":{\"y\":[0.63492571956971,0.65354597217896,0.67491831148372,0.6478835624807,0.6541680728688,0.62973634285085,0.61558539727155,0.61688909460517,0.61242708037881,0.61024885317859,0.6134631914251,0.61114971777972,0.60559411609874,0.60954831277623,0.6145114162389,0.61050632771324,0.61637305161532,0.59472835063934,0.60456253500546,0.5976347747971,0.59437658155666,0.6095895521781,0.61185369421454,0.59191671539755,0.60800486101824],\"x\":[1,2,3,4,5,6,7,8,9,10,11,12,13,14,15,16,17,18,19,20,21,22,23,24,25]},\"column_names\":[\"y\",\"x\"],\"cont_ranges\":{},\"discrete_ranges\":{},\"selected\":[],\"id\":\"3341b4ae-cbb7-4b06-cb09-af6b68284b67\",\"doc\":null,\"tags\":[]}},{\"id\":\"4790005a-184c-44cd-c430-d44d8e4487c9\",\"type\":\"Line\",\"attributes\":{\"fill_alpha\":{\"units\":\"data\",\"value\":0.2},\"line_alpha\":{\"units\":\"data\",\"value\":1},\"doc\":null,\"size\":{\"units\":\"screen\",\"value\":10},\"fill_color\":{\"value\":\"blue\"},\"line_color\":{\"value\":\"blue\"},\"x\":{\"units\":\"data\",\"field\":\"x\"},\"id\":\"4790005a-184c-44cd-c430-d44d8e4487c9\",\"y\":{\"units\":\"data\",\"field\":\"y\"},\"tags\":[]}},{\"id\":\"851d1b8b-11ef-4d4f-cd56-15c4c5291a50\",\"type\":\"Line\",\"attributes\":{\"fill_alpha\":{\"units\":\"data\",\"value\":0.2},\"line_alpha\":{\"units\":\"data\",\"value\":1},\"doc\":null,\"size\":{\"units\":\"screen\",\"value\":10},\"fill_color\":{\"value\":\"blue\"},\"line_color\":{\"value\":\"blue\"},\"x\":{\"units\":\"data\",\"field\":\"x\"},\"id\":\"851d1b8b-11ef-4d4f-cd56-15c4c5291a50\",\"y\":{\"units\":\"data\",\"field\":\"y\"},\"tags\":[]}},{\"id\":\"edb83bf6-05e3-44b6-c4a2-4de8e78dc2eb\",\"type\":\"GlyphRenderer\",\"attributes\":{\"name\":null,\"nonselection_glyph\":{\"type\":\"Line\",\"id\":\"851d1b8b-11ef-4d4f-cd56-15c4c5291a50\"},\"doc\":null,\"server_data_source\":null,\"data_source\":{\"type\":\"ColumnDataSource\",\"id\":\"3341b4ae-cbb7-4b06-cb09-af6b68284b67\"},\"glyph\":{\"type\":\"Line\",\"id\":\"4790005a-184c-44cd-c430-d44d8e4487c9\"},\"selection_glyph\":null,\"id\":\"edb83bf6-05e3-44b6-c4a2-4de8e78dc2eb\",\"tags\":[]}},{\"id\":\"9ad64c8d-0dc1-490d-c9da-0dd82bac1e91\",\"type\":\"DataRange1d\",\"attributes\":{\"sources\":[{\"columns\":[\"x\"],\"source\":{\"type\":\"ColumnDataSource\",\"id\":\"4c92973d-d7fe-41e5-c1dd-b80d028b6905\"}},{\"columns\":[\"x\"],\"source\":{\"type\":\"ColumnDataSource\",\"id\":\"3341b4ae-cbb7-4b06-cb09-af6b68284b67\"}}],\"id\":\"9ad64c8d-0dc1-490d-c9da-0dd82bac1e91\",\"tags\":[],\"doc\":null}},{\"id\":\"88fe02b4-c305-4443-c4bc-51a48e8ab53c\",\"type\":\"DataRange1d\",\"attributes\":{\"sources\":[{\"columns\":[\"y\"],\"source\":{\"type\":\"ColumnDataSource\",\"id\":\"4c92973d-d7fe-41e5-c1dd-b80d028b6905\"}},{\"columns\":[\"y\"],\"source\":{\"type\":\"ColumnDataSource\",\"id\":\"3341b4ae-cbb7-4b06-cb09-af6b68284b67\"}}],\"id\":\"88fe02b4-c305-4443-c4bc-51a48e8ab53c\",\"tags\":[],\"doc\":null}},{\"id\":\"3de3aa81-2bc2-4514-c55b-552a597be5ee\",\"type\":\"ToolEvents\",\"attributes\":{\"tags\":[],\"id\":\"3de3aa81-2bc2-4514-c55b-552a597be5ee\",\"geometries\":[],\"doc\":null}},{\"id\":\"30478146-1415-43bc-c354-2f11b7f63741\",\"type\":\"BasicTickFormatter\",\"attributes\":{\"id\":\"30478146-1415-43bc-c354-2f11b7f63741\",\"tags\":[],\"doc\":null}},{\"id\":\"67fedde7-77f3-4be4-cbee-f8d7e302e1f3\",\"type\":\"BasicTicker\",\"attributes\":{\"num_minor_ticks\":5,\"id\":\"67fedde7-77f3-4be4-cbee-f8d7e302e1f3\",\"tags\":[],\"doc\":null}},{\"id\":\"bf1c741c-5060-4927-c9b9-07391de6e8a4\",\"type\":\"LinearAxis\",\"attributes\":{\"formatter\":{\"type\":\"BasicTickFormatter\",\"id\":\"30478146-1415-43bc-c354-2f11b7f63741\"},\"ticker\":{\"type\":\"BasicTicker\",\"id\":\"67fedde7-77f3-4be4-cbee-f8d7e302e1f3\"},\"plot\":{\"id\":\"a49f8f88-172c-43fc-c36e-1e4be944b303\",\"type\":\"Plot\",\"subtype\":\"Figure\"},\"axis_label\":\"EPOCHS\",\"id\":\"bf1c741c-5060-4927-c9b9-07391de6e8a4\",\"doc\":null,\"tags\":[]}},{\"id\":\"e4375cef-c895-46d0-c6a9-fab205519e72\",\"type\":\"Grid\",\"attributes\":{\"dimension\":0,\"plot\":{\"id\":\"a49f8f88-172c-43fc-c36e-1e4be944b303\",\"type\":\"Plot\",\"subtype\":\"Figure\"},\"ticker\":{\"type\":\"BasicTicker\",\"id\":\"67fedde7-77f3-4be4-cbee-f8d7e302e1f3\"},\"id\":\"e4375cef-c895-46d0-c6a9-fab205519e72\",\"doc\":null,\"tags\":[]}},{\"id\":\"648b2e60-e405-4c40-cc5b-fff61141078a\",\"type\":\"BasicTickFormatter\",\"attributes\":{\"id\":\"648b2e60-e405-4c40-cc5b-fff61141078a\",\"tags\":[],\"doc\":null}},{\"id\":\"489e075e-014c-4ef5-ce93-ac111bcdfad3\",\"type\":\"BasicTicker\",\"attributes\":{\"num_minor_ticks\":5,\"id\":\"489e075e-014c-4ef5-ce93-ac111bcdfad3\",\"tags\":[],\"doc\":null}},{\"id\":\"4323d333-fe4b-47ae-c720-624cf01f3eae\",\"type\":\"LinearAxis\",\"attributes\":{\"formatter\":{\"type\":\"BasicTickFormatter\",\"id\":\"648b2e60-e405-4c40-cc5b-fff61141078a\"},\"ticker\":{\"type\":\"BasicTicker\",\"id\":\"489e075e-014c-4ef5-ce93-ac111bcdfad3\"},\"plot\":{\"id\":\"a49f8f88-172c-43fc-c36e-1e4be944b303\",\"type\":\"Plot\",\"subtype\":\"Figure\"},\"axis_label\":null,\"id\":\"4323d333-fe4b-47ae-c720-624cf01f3eae\",\"doc\":null,\"tags\":[]}},{\"id\":\"1aa638fb-0aeb-4e45-cebe-45eea8d8a6e4\",\"type\":\"Grid\",\"attributes\":{\"dimension\":1,\"plot\":{\"id\":\"a49f8f88-172c-43fc-c36e-1e4be944b303\",\"type\":\"Plot\",\"subtype\":\"Figure\"},\"ticker\":{\"type\":\"BasicTicker\",\"id\":\"489e075e-014c-4ef5-ce93-ac111bcdfad3\"},\"id\":\"1aa638fb-0aeb-4e45-cebe-45eea8d8a6e4\",\"doc\":null,\"tags\":[]}},{\"id\":\"a5b6de1d-d2b3-4e39-ce5e-d76a30234d47\",\"type\":\"PanTool\",\"attributes\":{\"plot\":{\"id\":\"a49f8f88-172c-43fc-c36e-1e4be944b303\",\"type\":\"Plot\",\"subtype\":\"Figure\"},\"dimensions\":[\"width\",\"height\"],\"id\":\"a5b6de1d-d2b3-4e39-ce5e-d76a30234d47\",\"doc\":null,\"tags\":[]}},{\"id\":\"d8769ff3-60c1-4be2-cbef-3376017c54e6\",\"type\":\"WheelZoomTool\",\"attributes\":{\"plot\":{\"id\":\"a49f8f88-172c-43fc-c36e-1e4be944b303\",\"type\":\"Plot\",\"subtype\":\"Figure\"},\"dimensions\":[\"width\",\"height\"],\"id\":\"d8769ff3-60c1-4be2-cbef-3376017c54e6\",\"doc\":null,\"tags\":[]}},{\"id\":\"5cff97a7-73c3-432a-c325-b8d3f3c8984a\",\"type\":\"BoxZoomTool\",\"attributes\":{\"plot\":{\"id\":\"a49f8f88-172c-43fc-c36e-1e4be944b303\",\"type\":\"Plot\",\"subtype\":\"Figure\"},\"id\":\"5cff97a7-73c3-432a-c325-b8d3f3c8984a\",\"tags\":[],\"doc\":null}},{\"id\":\"8fece7b3-34f4-4a7d-ca00-df339eec392a\",\"type\":\"PreviewSaveTool\",\"attributes\":{\"plot\":{\"id\":\"a49f8f88-172c-43fc-c36e-1e4be944b303\",\"type\":\"Plot\",\"subtype\":\"Figure\"},\"id\":\"8fece7b3-34f4-4a7d-ca00-df339eec392a\",\"tags\":[],\"doc\":null}},{\"id\":\"51b3bdeb-9054-46ac-c68b-ae4a6f851315\",\"type\":\"ResizeTool\",\"attributes\":{\"plot\":{\"id\":\"a49f8f88-172c-43fc-c36e-1e4be944b303\",\"type\":\"Plot\",\"subtype\":\"Figure\"},\"id\":\"51b3bdeb-9054-46ac-c68b-ae4a6f851315\",\"tags\":[],\"doc\":null}},{\"id\":\"4e5f4750-9a88-4fca-cf9f-cd4ce3b7a203\",\"type\":\"ResetTool\",\"attributes\":{\"plot\":{\"id\":\"a49f8f88-172c-43fc-c36e-1e4be944b303\",\"type\":\"Plot\",\"subtype\":\"Figure\"},\"id\":\"4e5f4750-9a88-4fca-cf9f-cd4ce3b7a203\",\"tags\":[],\"doc\":null}},{\"id\":\"49fd7e0a-99e4-42c9-c230-569e198fd904\",\"type\":\"Legend\",\"attributes\":{\"plot\":{\"id\":\"a49f8f88-172c-43fc-c36e-1e4be944b303\",\"type\":\"Plot\",\"subtype\":\"Figure\"},\"legends\":[[\"trainLoss\",[{\"type\":\"GlyphRenderer\",\"id\":\"fc73a7e6-7404-4f02-cf0e-21bbb4c021ef\"}]],[\"valLoss\",[{\"type\":\"GlyphRenderer\",\"id\":\"edb83bf6-05e3-44b6-c4a2-4de8e78dc2eb\"}]]],\"id\":\"49fd7e0a-99e4-42c9-c230-569e198fd904\",\"doc\":null,\"tags\":[]}},{\"id\":\"a49f8f88-172c-43fc-c36e-1e4be944b303\",\"type\":\"Plot\",\"attributes\":{\"x_range\":{\"type\":\"DataRange1d\",\"id\":\"9ad64c8d-0dc1-490d-c9da-0dd82bac1e91\"},\"tool_events\":{\"type\":\"ToolEvents\",\"id\":\"3de3aa81-2bc2-4514-c55b-552a597be5ee\"},\"below\":[{\"type\":\"LinearAxis\",\"id\":\"bf1c741c-5060-4927-c9b9-07391de6e8a4\"}],\"renderers\":[{\"type\":\"GlyphRenderer\",\"id\":\"fc73a7e6-7404-4f02-cf0e-21bbb4c021ef\"},{\"type\":\"GlyphRenderer\",\"id\":\"edb83bf6-05e3-44b6-c4a2-4de8e78dc2eb\"},{\"type\":\"LinearAxis\",\"id\":\"bf1c741c-5060-4927-c9b9-07391de6e8a4\"},{\"type\":\"Grid\",\"id\":\"e4375cef-c895-46d0-c6a9-fab205519e72\"},{\"type\":\"LinearAxis\",\"id\":\"4323d333-fe4b-47ae-c720-624cf01f3eae\"},{\"type\":\"Grid\",\"id\":\"1aa638fb-0aeb-4e45-cebe-45eea8d8a6e4\"},{\"type\":\"Legend\",\"id\":\"49fd7e0a-99e4-42c9-c230-569e198fd904\"}],\"above\":[],\"tools\":[{\"type\":\"PanTool\",\"id\":\"a5b6de1d-d2b3-4e39-ce5e-d76a30234d47\"},{\"type\":\"WheelZoomTool\",\"id\":\"d8769ff3-60c1-4be2-cbef-3376017c54e6\"},{\"type\":\"BoxZoomTool\",\"id\":\"5cff97a7-73c3-432a-c325-b8d3f3c8984a\"},{\"type\":\"PreviewSaveTool\",\"id\":\"8fece7b3-34f4-4a7d-ca00-df339eec392a\"},{\"type\":\"ResizeTool\",\"id\":\"51b3bdeb-9054-46ac-c68b-ae4a6f851315\"},{\"type\":\"ResetTool\",\"id\":\"4e5f4750-9a88-4fca-cf9f-cd4ce3b7a203\"}],\"doc\":null,\"right\":[],\"title\":\"Overfitting Check: LOSS\",\"extra_x_ranges\":{},\"left\":[{\"type\":\"LinearAxis\",\"id\":\"4323d333-fe4b-47ae-c720-624cf01f3eae\"}],\"y_range\":{\"type\":\"DataRange1d\",\"id\":\"88fe02b4-c305-4443-c4bc-51a48e8ab53c\"},\"id\":\"a49f8f88-172c-43fc-c36e-1e4be944b303\",\"extra_y_ranges\":{},\"tags\":[]}}];\n",
       "  Bokeh.load_models(all_models);\n",
       "  var model = Bokeh.Collections(modeltype).get(modelid);\n",
       "  $(\"#71c762a4-7339-4c46-cc34-a9cde1830045\").html(''); // clear any previous plot in window_id\n",
       "  var view = new model.default_view({model: model, el: \"#71c762a4-7339-4c46-cc34-a9cde1830045\"});\n",
       "    } else {\n",
       "  load_lib(bokehjs_url, function() {\n",
       "      console.log(\"Bokeh: BokehJS plotting callback run at\", new Date())\n",
       "      var modelid = \"a49f8f88-172c-43fc-c36e-1e4be944b303\";\n",
       "      var modeltype = \"Plot\";\n",
       "      var all_models = [{\"id\":\"4c92973d-d7fe-41e5-c1dd-b80d028b6905\",\"type\":\"ColumnDataSource\",\"attributes\":{\"data\":{\"y\":[0.65524952972637,0.62319188258227,0.61536123472102,0.61102855766521,0.6084435357767,0.60263455124462,0.60125695957857,0.60094646425808,0.59865956166211,0.59637489178601,0.59648404331768,0.59312341353473,0.59009544779273,0.59105639738195,0.58847968297846,0.58868948361453,0.58777974072625,0.58584154002807,0.58550574358772,0.58359182862674,0.58452489726684,0.58329799666124,0.58274761298124,0.58158570878646,0.5800674403415],\"x\":[1,2,3,4,5,6,7,8,9,10,11,12,13,14,15,16,17,18,19,20,21,22,23,24,25]},\"column_names\":[\"y\",\"x\"],\"cont_ranges\":{},\"discrete_ranges\":{},\"selected\":[],\"id\":\"4c92973d-d7fe-41e5-c1dd-b80d028b6905\",\"doc\":null,\"tags\":[]}},{\"id\":\"c1b533d8-3c18-4cdd-cc47-403647fe1018\",\"type\":\"Line\",\"attributes\":{\"fill_alpha\":{\"units\":\"data\",\"value\":0.2},\"line_alpha\":{\"units\":\"data\",\"value\":1},\"doc\":null,\"size\":{\"units\":\"screen\",\"value\":10},\"fill_color\":{\"value\":\"red\"},\"line_color\":{\"value\":\"red\"},\"x\":{\"units\":\"data\",\"field\":\"x\"},\"id\":\"c1b533d8-3c18-4cdd-cc47-403647fe1018\",\"y\":{\"units\":\"data\",\"field\":\"y\"},\"tags\":[]}},{\"id\":\"f7004df0-ddf7-4d03-cdb8-4fa1de6e3bcf\",\"type\":\"Line\",\"attributes\":{\"fill_alpha\":{\"units\":\"data\",\"value\":0.2},\"line_alpha\":{\"units\":\"data\",\"value\":1},\"doc\":null,\"size\":{\"units\":\"screen\",\"value\":10},\"fill_color\":{\"value\":\"red\"},\"line_color\":{\"value\":\"red\"},\"x\":{\"units\":\"data\",\"field\":\"x\"},\"id\":\"f7004df0-ddf7-4d03-cdb8-4fa1de6e3bcf\",\"y\":{\"units\":\"data\",\"field\":\"y\"},\"tags\":[]}},{\"id\":\"fc73a7e6-7404-4f02-cf0e-21bbb4c021ef\",\"type\":\"GlyphRenderer\",\"attributes\":{\"name\":null,\"nonselection_glyph\":{\"type\":\"Line\",\"id\":\"f7004df0-ddf7-4d03-cdb8-4fa1de6e3bcf\"},\"doc\":null,\"server_data_source\":null,\"data_source\":{\"type\":\"ColumnDataSource\",\"id\":\"4c92973d-d7fe-41e5-c1dd-b80d028b6905\"},\"glyph\":{\"type\":\"Line\",\"id\":\"c1b533d8-3c18-4cdd-cc47-403647fe1018\"},\"selection_glyph\":null,\"id\":\"fc73a7e6-7404-4f02-cf0e-21bbb4c021ef\",\"tags\":[]}},{\"id\":\"3341b4ae-cbb7-4b06-cb09-af6b68284b67\",\"type\":\"ColumnDataSource\",\"attributes\":{\"data\":{\"y\":[0.63492571956971,0.65354597217896,0.67491831148372,0.6478835624807,0.6541680728688,0.62973634285085,0.61558539727155,0.61688909460517,0.61242708037881,0.61024885317859,0.6134631914251,0.61114971777972,0.60559411609874,0.60954831277623,0.6145114162389,0.61050632771324,0.61637305161532,0.59472835063934,0.60456253500546,0.5976347747971,0.59437658155666,0.6095895521781,0.61185369421454,0.59191671539755,0.60800486101824],\"x\":[1,2,3,4,5,6,7,8,9,10,11,12,13,14,15,16,17,18,19,20,21,22,23,24,25]},\"column_names\":[\"y\",\"x\"],\"cont_ranges\":{},\"discrete_ranges\":{},\"selected\":[],\"id\":\"3341b4ae-cbb7-4b06-cb09-af6b68284b67\",\"doc\":null,\"tags\":[]}},{\"id\":\"4790005a-184c-44cd-c430-d44d8e4487c9\",\"type\":\"Line\",\"attributes\":{\"fill_alpha\":{\"units\":\"data\",\"value\":0.2},\"line_alpha\":{\"units\":\"data\",\"value\":1},\"doc\":null,\"size\":{\"units\":\"screen\",\"value\":10},\"fill_color\":{\"value\":\"blue\"},\"line_color\":{\"value\":\"blue\"},\"x\":{\"units\":\"data\",\"field\":\"x\"},\"id\":\"4790005a-184c-44cd-c430-d44d8e4487c9\",\"y\":{\"units\":\"data\",\"field\":\"y\"},\"tags\":[]}},{\"id\":\"851d1b8b-11ef-4d4f-cd56-15c4c5291a50\",\"type\":\"Line\",\"attributes\":{\"fill_alpha\":{\"units\":\"data\",\"value\":0.2},\"line_alpha\":{\"units\":\"data\",\"value\":1},\"doc\":null,\"size\":{\"units\":\"screen\",\"value\":10},\"fill_color\":{\"value\":\"blue\"},\"line_color\":{\"value\":\"blue\"},\"x\":{\"units\":\"data\",\"field\":\"x\"},\"id\":\"851d1b8b-11ef-4d4f-cd56-15c4c5291a50\",\"y\":{\"units\":\"data\",\"field\":\"y\"},\"tags\":[]}},{\"id\":\"edb83bf6-05e3-44b6-c4a2-4de8e78dc2eb\",\"type\":\"GlyphRenderer\",\"attributes\":{\"name\":null,\"nonselection_glyph\":{\"type\":\"Line\",\"id\":\"851d1b8b-11ef-4d4f-cd56-15c4c5291a50\"},\"doc\":null,\"server_data_source\":null,\"data_source\":{\"type\":\"ColumnDataSource\",\"id\":\"3341b4ae-cbb7-4b06-cb09-af6b68284b67\"},\"glyph\":{\"type\":\"Line\",\"id\":\"4790005a-184c-44cd-c430-d44d8e4487c9\"},\"selection_glyph\":null,\"id\":\"edb83bf6-05e3-44b6-c4a2-4de8e78dc2eb\",\"tags\":[]}},{\"id\":\"9ad64c8d-0dc1-490d-c9da-0dd82bac1e91\",\"type\":\"DataRange1d\",\"attributes\":{\"sources\":[{\"columns\":[\"x\"],\"source\":{\"type\":\"ColumnDataSource\",\"id\":\"4c92973d-d7fe-41e5-c1dd-b80d028b6905\"}},{\"columns\":[\"x\"],\"source\":{\"type\":\"ColumnDataSource\",\"id\":\"3341b4ae-cbb7-4b06-cb09-af6b68284b67\"}}],\"id\":\"9ad64c8d-0dc1-490d-c9da-0dd82bac1e91\",\"tags\":[],\"doc\":null}},{\"id\":\"88fe02b4-c305-4443-c4bc-51a48e8ab53c\",\"type\":\"DataRange1d\",\"attributes\":{\"sources\":[{\"columns\":[\"y\"],\"source\":{\"type\":\"ColumnDataSource\",\"id\":\"4c92973d-d7fe-41e5-c1dd-b80d028b6905\"}},{\"columns\":[\"y\"],\"source\":{\"type\":\"ColumnDataSource\",\"id\":\"3341b4ae-cbb7-4b06-cb09-af6b68284b67\"}}],\"id\":\"88fe02b4-c305-4443-c4bc-51a48e8ab53c\",\"tags\":[],\"doc\":null}},{\"id\":\"3de3aa81-2bc2-4514-c55b-552a597be5ee\",\"type\":\"ToolEvents\",\"attributes\":{\"tags\":[],\"id\":\"3de3aa81-2bc2-4514-c55b-552a597be5ee\",\"geometries\":[],\"doc\":null}},{\"id\":\"30478146-1415-43bc-c354-2f11b7f63741\",\"type\":\"BasicTickFormatter\",\"attributes\":{\"id\":\"30478146-1415-43bc-c354-2f11b7f63741\",\"tags\":[],\"doc\":null}},{\"id\":\"67fedde7-77f3-4be4-cbee-f8d7e302e1f3\",\"type\":\"BasicTicker\",\"attributes\":{\"num_minor_ticks\":5,\"id\":\"67fedde7-77f3-4be4-cbee-f8d7e302e1f3\",\"tags\":[],\"doc\":null}},{\"id\":\"bf1c741c-5060-4927-c9b9-07391de6e8a4\",\"type\":\"LinearAxis\",\"attributes\":{\"formatter\":{\"type\":\"BasicTickFormatter\",\"id\":\"30478146-1415-43bc-c354-2f11b7f63741\"},\"ticker\":{\"type\":\"BasicTicker\",\"id\":\"67fedde7-77f3-4be4-cbee-f8d7e302e1f3\"},\"plot\":{\"id\":\"a49f8f88-172c-43fc-c36e-1e4be944b303\",\"type\":\"Plot\",\"subtype\":\"Figure\"},\"axis_label\":\"EPOCHS\",\"id\":\"bf1c741c-5060-4927-c9b9-07391de6e8a4\",\"doc\":null,\"tags\":[]}},{\"id\":\"e4375cef-c895-46d0-c6a9-fab205519e72\",\"type\":\"Grid\",\"attributes\":{\"dimension\":0,\"plot\":{\"id\":\"a49f8f88-172c-43fc-c36e-1e4be944b303\",\"type\":\"Plot\",\"subtype\":\"Figure\"},\"ticker\":{\"type\":\"BasicTicker\",\"id\":\"67fedde7-77f3-4be4-cbee-f8d7e302e1f3\"},\"id\":\"e4375cef-c895-46d0-c6a9-fab205519e72\",\"doc\":null,\"tags\":[]}},{\"id\":\"648b2e60-e405-4c40-cc5b-fff61141078a\",\"type\":\"BasicTickFormatter\",\"attributes\":{\"id\":\"648b2e60-e405-4c40-cc5b-fff61141078a\",\"tags\":[],\"doc\":null}},{\"id\":\"489e075e-014c-4ef5-ce93-ac111bcdfad3\",\"type\":\"BasicTicker\",\"attributes\":{\"num_minor_ticks\":5,\"id\":\"489e075e-014c-4ef5-ce93-ac111bcdfad3\",\"tags\":[],\"doc\":null}},{\"id\":\"4323d333-fe4b-47ae-c720-624cf01f3eae\",\"type\":\"LinearAxis\",\"attributes\":{\"formatter\":{\"type\":\"BasicTickFormatter\",\"id\":\"648b2e60-e405-4c40-cc5b-fff61141078a\"},\"ticker\":{\"type\":\"BasicTicker\",\"id\":\"489e075e-014c-4ef5-ce93-ac111bcdfad3\"},\"plot\":{\"id\":\"a49f8f88-172c-43fc-c36e-1e4be944b303\",\"type\":\"Plot\",\"subtype\":\"Figure\"},\"axis_label\":null,\"id\":\"4323d333-fe4b-47ae-c720-624cf01f3eae\",\"doc\":null,\"tags\":[]}},{\"id\":\"1aa638fb-0aeb-4e45-cebe-45eea8d8a6e4\",\"type\":\"Grid\",\"attributes\":{\"dimension\":1,\"plot\":{\"id\":\"a49f8f88-172c-43fc-c36e-1e4be944b303\",\"type\":\"Plot\",\"subtype\":\"Figure\"},\"ticker\":{\"type\":\"BasicTicker\",\"id\":\"489e075e-014c-4ef5-ce93-ac111bcdfad3\"},\"id\":\"1aa638fb-0aeb-4e45-cebe-45eea8d8a6e4\",\"doc\":null,\"tags\":[]}},{\"id\":\"a5b6de1d-d2b3-4e39-ce5e-d76a30234d47\",\"type\":\"PanTool\",\"attributes\":{\"plot\":{\"id\":\"a49f8f88-172c-43fc-c36e-1e4be944b303\",\"type\":\"Plot\",\"subtype\":\"Figure\"},\"dimensions\":[\"width\",\"height\"],\"id\":\"a5b6de1d-d2b3-4e39-ce5e-d76a30234d47\",\"doc\":null,\"tags\":[]}},{\"id\":\"d8769ff3-60c1-4be2-cbef-3376017c54e6\",\"type\":\"WheelZoomTool\",\"attributes\":{\"plot\":{\"id\":\"a49f8f88-172c-43fc-c36e-1e4be944b303\",\"type\":\"Plot\",\"subtype\":\"Figure\"},\"dimensions\":[\"width\",\"height\"],\"id\":\"d8769ff3-60c1-4be2-cbef-3376017c54e6\",\"doc\":null,\"tags\":[]}},{\"id\":\"5cff97a7-73c3-432a-c325-b8d3f3c8984a\",\"type\":\"BoxZoomTool\",\"attributes\":{\"plot\":{\"id\":\"a49f8f88-172c-43fc-c36e-1e4be944b303\",\"type\":\"Plot\",\"subtype\":\"Figure\"},\"id\":\"5cff97a7-73c3-432a-c325-b8d3f3c8984a\",\"tags\":[],\"doc\":null}},{\"id\":\"8fece7b3-34f4-4a7d-ca00-df339eec392a\",\"type\":\"PreviewSaveTool\",\"attributes\":{\"plot\":{\"id\":\"a49f8f88-172c-43fc-c36e-1e4be944b303\",\"type\":\"Plot\",\"subtype\":\"Figure\"},\"id\":\"8fece7b3-34f4-4a7d-ca00-df339eec392a\",\"tags\":[],\"doc\":null}},{\"id\":\"51b3bdeb-9054-46ac-c68b-ae4a6f851315\",\"type\":\"ResizeTool\",\"attributes\":{\"plot\":{\"id\":\"a49f8f88-172c-43fc-c36e-1e4be944b303\",\"type\":\"Plot\",\"subtype\":\"Figure\"},\"id\":\"51b3bdeb-9054-46ac-c68b-ae4a6f851315\",\"tags\":[],\"doc\":null}},{\"id\":\"4e5f4750-9a88-4fca-cf9f-cd4ce3b7a203\",\"type\":\"ResetTool\",\"attributes\":{\"plot\":{\"id\":\"a49f8f88-172c-43fc-c36e-1e4be944b303\",\"type\":\"Plot\",\"subtype\":\"Figure\"},\"id\":\"4e5f4750-9a88-4fca-cf9f-cd4ce3b7a203\",\"tags\":[],\"doc\":null}},{\"id\":\"49fd7e0a-99e4-42c9-c230-569e198fd904\",\"type\":\"Legend\",\"attributes\":{\"plot\":{\"id\":\"a49f8f88-172c-43fc-c36e-1e4be944b303\",\"type\":\"Plot\",\"subtype\":\"Figure\"},\"legends\":[[\"trainLoss\",[{\"type\":\"GlyphRenderer\",\"id\":\"fc73a7e6-7404-4f02-cf0e-21bbb4c021ef\"}]],[\"valLoss\",[{\"type\":\"GlyphRenderer\",\"id\":\"edb83bf6-05e3-44b6-c4a2-4de8e78dc2eb\"}]]],\"id\":\"49fd7e0a-99e4-42c9-c230-569e198fd904\",\"doc\":null,\"tags\":[]}},{\"id\":\"a49f8f88-172c-43fc-c36e-1e4be944b303\",\"type\":\"Plot\",\"attributes\":{\"x_range\":{\"type\":\"DataRange1d\",\"id\":\"9ad64c8d-0dc1-490d-c9da-0dd82bac1e91\"},\"tool_events\":{\"type\":\"ToolEvents\",\"id\":\"3de3aa81-2bc2-4514-c55b-552a597be5ee\"},\"below\":[{\"type\":\"LinearAxis\",\"id\":\"bf1c741c-5060-4927-c9b9-07391de6e8a4\"}],\"renderers\":[{\"type\":\"GlyphRenderer\",\"id\":\"fc73a7e6-7404-4f02-cf0e-21bbb4c021ef\"},{\"type\":\"GlyphRenderer\",\"id\":\"edb83bf6-05e3-44b6-c4a2-4de8e78dc2eb\"},{\"type\":\"LinearAxis\",\"id\":\"bf1c741c-5060-4927-c9b9-07391de6e8a4\"},{\"type\":\"Grid\",\"id\":\"e4375cef-c895-46d0-c6a9-fab205519e72\"},{\"type\":\"LinearAxis\",\"id\":\"4323d333-fe4b-47ae-c720-624cf01f3eae\"},{\"type\":\"Grid\",\"id\":\"1aa638fb-0aeb-4e45-cebe-45eea8d8a6e4\"},{\"type\":\"Legend\",\"id\":\"49fd7e0a-99e4-42c9-c230-569e198fd904\"}],\"above\":[],\"tools\":[{\"type\":\"PanTool\",\"id\":\"a5b6de1d-d2b3-4e39-ce5e-d76a30234d47\"},{\"type\":\"WheelZoomTool\",\"id\":\"d8769ff3-60c1-4be2-cbef-3376017c54e6\"},{\"type\":\"BoxZoomTool\",\"id\":\"5cff97a7-73c3-432a-c325-b8d3f3c8984a\"},{\"type\":\"PreviewSaveTool\",\"id\":\"8fece7b3-34f4-4a7d-ca00-df339eec392a\"},{\"type\":\"ResizeTool\",\"id\":\"51b3bdeb-9054-46ac-c68b-ae4a6f851315\"},{\"type\":\"ResetTool\",\"id\":\"4e5f4750-9a88-4fca-cf9f-cd4ce3b7a203\"}],\"doc\":null,\"right\":[],\"title\":\"Overfitting Check: LOSS\",\"extra_x_ranges\":{},\"left\":[{\"type\":\"LinearAxis\",\"id\":\"4323d333-fe4b-47ae-c720-624cf01f3eae\"}],\"y_range\":{\"type\":\"DataRange1d\",\"id\":\"88fe02b4-c305-4443-c4bc-51a48e8ab53c\"},\"id\":\"a49f8f88-172c-43fc-c36e-1e4be944b303\",\"extra_y_ranges\":{},\"tags\":[]}}];\n",
       "      Bokeh.load_models(all_models);\n",
       "      var model = Bokeh.Collections(modeltype).get(modelid);\n",
       "      $(\"#71c762a4-7339-4c46-cc34-a9cde1830045\").html(''); // clear any previous plot in window_id\n",
       "      var view = new model.default_view({model: model, el: \"#71c762a4-7339-4c46-cc34-a9cde1830045\"});\n",
       "  });\n",
       "    }\n",
       "});\n",
       "</script>\n",
       "<div class=\"plotdiv\" id=\"71c762a4-7339-4c46-cc34-a9cde1830045\"></div>\n"
      ]
     },
     "metadata": {},
     "output_type": "display_data"
    }
   ],
   "source": [
    "Plot = require (\"itorch.Plot\")\n",
    " \n",
    "x = {}\n",
    "for i = 1,opt.nEpochs do\n",
    "    table.insert(x,i)\n",
    "end\n",
    " \n",
    " \n",
    "local plot = Plot()\n",
    "plot:line(x, trainingStats.trainLoss ,'red' ,'trainLoss')\n",
    "plot:line(x, trainingStats.valLoss,'blue','valLoss')\n",
    "plot:xaxis('EPOCHS')\n",
    "plot:legend(true):title('Overfitting Check: LOSS')\n",
    "plot:draw() -- or plot:draw() or plot:html()"
   ]
  },
  {
   "cell_type": "code",
   "execution_count": 13,
   "metadata": {
    "collapsed": false
   },
   "outputs": [
    {
     "data": {
      "text/html": [
       "<script type=\"text/javascript\">\n",
       "$(function() {\n",
       "    if (typeof (window._bokeh_onload_callbacks) === \"undefined\"){\n",
       "  window._bokeh_onload_callbacks = [];\n",
       "    }\n",
       "    function load_lib(url, callback){\n",
       "  window._bokeh_onload_callbacks.push(callback);\n",
       "  if (window._bokeh_is_loading){\n",
       "      console.log(\"Bokeh: BokehJS is being loaded, scheduling callback at\", new Date());\n",
       "      return null;\n",
       "  }\n",
       "  console.log(\"Bokeh: BokehJS not loaded, scheduling load and callback at\", new Date());\n",
       "  window._bokeh_is_loading = true;\n",
       "  var s = document.createElement('script');\n",
       "  s.src = url;\n",
       "  s.async = true;\n",
       "  s.onreadystatechange = s.onload = function(){\n",
       "      Bokeh.embed.inject_css(\"https://cdn.pydata.org/bokeh-0.7.0.min.css\");\n",
       "      window._bokeh_onload_callbacks.forEach(function(callback){callback()});\n",
       "  };\n",
       "  s.onerror = function(){\n",
       "      console.warn(\"failed to load library \" + url);\n",
       "  };\n",
       "  document.getElementsByTagName(\"head\")[0].appendChild(s);\n",
       "    }\n",
       "\n",
       "    bokehjs_url = \"https://cdn.pydata.org/bokeh-0.7.0.min.js\"\n",
       "\n",
       "    var elt = document.getElementById(\"86917684-608d-4f6b-cff3-146a5c5197c7\");\n",
       "    if(elt==null) {\n",
       "  console.log(\"Bokeh: ERROR: autoload.js configured with elementid '86917684-608d-4f6b-cff3-146a5c5197c7'\"\n",
       "        + \"but no matching script tag was found. \")\n",
       "  return false;\n",
       "    }\n",
       "\n",
       "    if(typeof(Bokeh) !== \"undefined\") {\n",
       "  console.log(\"Bokeh: BokehJS loaded, going straight to plotting\");\n",
       "  var modelid = \"3d45818a-b5bc-48e0-c871-129881dfe385\";\n",
       "  var modeltype = \"Plot\";\n",
       "  var all_models = [{\"id\":\"bb20367c-45be-4187-c160-91a65e1b87ee\",\"type\":\"ColumnDataSource\",\"attributes\":{\"data\":{\"y\":[0.61564797794118,0.65684742647059,0.66548713235294,0.66854319852941,0.67306985294118,0.67587316176471,0.67734375,0.67591911764706,0.68019301470588,0.68145680147059,0.68223805147059,0.68662683823529,0.68968290441176,0.68984375,0.69115349264706,0.68949908088235,0.69223345588235,0.69188878676471,0.69303768382353,0.69377297794118,0.69283088235294,0.69441636029412,0.69646139705882,0.69595588235294,0.69765625],\"x\":[1,2,3,4,5,6,7,8,9,10,11,12,13,14,15,16,17,18,19,20,21,22,23,24,25]},\"column_names\":[\"y\",\"x\"],\"cont_ranges\":{},\"discrete_ranges\":{},\"selected\":[],\"id\":\"bb20367c-45be-4187-c160-91a65e1b87ee\",\"doc\":null,\"tags\":[]}},{\"id\":\"75deb4e1-de4b-4277-c2b6-03402a290f7d\",\"type\":\"Line\",\"attributes\":{\"fill_alpha\":{\"units\":\"data\",\"value\":0.2},\"line_alpha\":{\"units\":\"data\",\"value\":1},\"doc\":null,\"size\":{\"units\":\"screen\",\"value\":10},\"fill_color\":{\"value\":\"red\"},\"line_color\":{\"value\":\"red\"},\"x\":{\"units\":\"data\",\"field\":\"x\"},\"id\":\"75deb4e1-de4b-4277-c2b6-03402a290f7d\",\"y\":{\"units\":\"data\",\"field\":\"y\"},\"tags\":[]}},{\"id\":\"c77fc70e-c027-4bdd-cb74-9efe64b30c3f\",\"type\":\"Line\",\"attributes\":{\"fill_alpha\":{\"units\":\"data\",\"value\":0.2},\"line_alpha\":{\"units\":\"data\",\"value\":1},\"doc\":null,\"size\":{\"units\":\"screen\",\"value\":10},\"fill_color\":{\"value\":\"red\"},\"line_color\":{\"value\":\"red\"},\"x\":{\"units\":\"data\",\"field\":\"x\"},\"id\":\"c77fc70e-c027-4bdd-cb74-9efe64b30c3f\",\"y\":{\"units\":\"data\",\"field\":\"y\"},\"tags\":[]}},{\"id\":\"6761a806-b16f-4d65-cdfb-ac8a32d052d3\",\"type\":\"GlyphRenderer\",\"attributes\":{\"name\":null,\"nonselection_glyph\":{\"type\":\"Line\",\"id\":\"c77fc70e-c027-4bdd-cb74-9efe64b30c3f\"},\"doc\":null,\"server_data_source\":null,\"data_source\":{\"type\":\"ColumnDataSource\",\"id\":\"bb20367c-45be-4187-c160-91a65e1b87ee\"},\"glyph\":{\"type\":\"Line\",\"id\":\"75deb4e1-de4b-4277-c2b6-03402a290f7d\"},\"selection_glyph\":null,\"id\":\"6761a806-b16f-4d65-cdfb-ac8a32d052d3\",\"tags\":[]}},{\"id\":\"94195310-aa19-4ca4-ccff-ddd71d30ae2e\",\"type\":\"ColumnDataSource\",\"attributes\":{\"data\":{\"y\":[0.64234834558824,0.62522977941176,0.61937040441176,0.626953125,0.62431066176471,0.65682444852941,0.66096047794118,0.65625,0.66567095588235,0.66107536764706,0.65866268382353,0.65590533088235,0.67279411764706,0.66061580882353,0.65303308823529,0.66727941176471,0.65521599264706,0.68347886029412,0.67221966911765,0.67899816176471,0.68072150735294,0.66394761029412,0.66486672794118,0.68520220588235,0.66934742647059],\"x\":[1,2,3,4,5,6,7,8,9,10,11,12,13,14,15,16,17,18,19,20,21,22,23,24,25]},\"column_names\":[\"y\",\"x\"],\"cont_ranges\":{},\"discrete_ranges\":{},\"selected\":[],\"id\":\"94195310-aa19-4ca4-ccff-ddd71d30ae2e\",\"doc\":null,\"tags\":[]}},{\"id\":\"1a51a132-5544-45d0-c517-c7413397c262\",\"type\":\"Line\",\"attributes\":{\"fill_alpha\":{\"units\":\"data\",\"value\":0.2},\"line_alpha\":{\"units\":\"data\",\"value\":1},\"doc\":null,\"size\":{\"units\":\"screen\",\"value\":10},\"fill_color\":{\"value\":\"blue\"},\"line_color\":{\"value\":\"blue\"},\"x\":{\"units\":\"data\",\"field\":\"x\"},\"id\":\"1a51a132-5544-45d0-c517-c7413397c262\",\"y\":{\"units\":\"data\",\"field\":\"y\"},\"tags\":[]}},{\"id\":\"bb1614d0-945b-49bc-c939-478134e839e5\",\"type\":\"Line\",\"attributes\":{\"fill_alpha\":{\"units\":\"data\",\"value\":0.2},\"line_alpha\":{\"units\":\"data\",\"value\":1},\"doc\":null,\"size\":{\"units\":\"screen\",\"value\":10},\"fill_color\":{\"value\":\"blue\"},\"line_color\":{\"value\":\"blue\"},\"x\":{\"units\":\"data\",\"field\":\"x\"},\"id\":\"bb1614d0-945b-49bc-c939-478134e839e5\",\"y\":{\"units\":\"data\",\"field\":\"y\"},\"tags\":[]}},{\"id\":\"ba89f1af-8906-4b2e-cb32-cc24feeefc78\",\"type\":\"GlyphRenderer\",\"attributes\":{\"name\":null,\"nonselection_glyph\":{\"type\":\"Line\",\"id\":\"bb1614d0-945b-49bc-c939-478134e839e5\"},\"doc\":null,\"server_data_source\":null,\"data_source\":{\"type\":\"ColumnDataSource\",\"id\":\"94195310-aa19-4ca4-ccff-ddd71d30ae2e\"},\"glyph\":{\"type\":\"Line\",\"id\":\"1a51a132-5544-45d0-c517-c7413397c262\"},\"selection_glyph\":null,\"id\":\"ba89f1af-8906-4b2e-cb32-cc24feeefc78\",\"tags\":[]}},{\"id\":\"6a3bde1f-0946-44d8-c4ae-464b440e8a88\",\"type\":\"DataRange1d\",\"attributes\":{\"sources\":[{\"columns\":[\"x\"],\"source\":{\"type\":\"ColumnDataSource\",\"id\":\"bb20367c-45be-4187-c160-91a65e1b87ee\"}},{\"columns\":[\"x\"],\"source\":{\"type\":\"ColumnDataSource\",\"id\":\"94195310-aa19-4ca4-ccff-ddd71d30ae2e\"}}],\"id\":\"6a3bde1f-0946-44d8-c4ae-464b440e8a88\",\"tags\":[],\"doc\":null}},{\"id\":\"c2b03050-7182-4818-c81f-517947bf8a35\",\"type\":\"DataRange1d\",\"attributes\":{\"sources\":[{\"columns\":[\"y\"],\"source\":{\"type\":\"ColumnDataSource\",\"id\":\"bb20367c-45be-4187-c160-91a65e1b87ee\"}},{\"columns\":[\"y\"],\"source\":{\"type\":\"ColumnDataSource\",\"id\":\"94195310-aa19-4ca4-ccff-ddd71d30ae2e\"}}],\"id\":\"c2b03050-7182-4818-c81f-517947bf8a35\",\"tags\":[],\"doc\":null}},{\"id\":\"70af5f75-a406-4cb3-ccd2-c2d320ffe43a\",\"type\":\"ToolEvents\",\"attributes\":{\"tags\":[],\"id\":\"70af5f75-a406-4cb3-ccd2-c2d320ffe43a\",\"geometries\":[],\"doc\":null}},{\"id\":\"d8f84276-0c60-46a2-c679-e3d3417d7849\",\"type\":\"BasicTickFormatter\",\"attributes\":{\"id\":\"d8f84276-0c60-46a2-c679-e3d3417d7849\",\"tags\":[],\"doc\":null}},{\"id\":\"78b1c040-27e8-48fc-c89a-a00850c8fc2e\",\"type\":\"BasicTicker\",\"attributes\":{\"num_minor_ticks\":5,\"id\":\"78b1c040-27e8-48fc-c89a-a00850c8fc2e\",\"tags\":[],\"doc\":null}},{\"id\":\"58a0b646-0879-4622-c6ba-6be7f1680868\",\"type\":\"LinearAxis\",\"attributes\":{\"formatter\":{\"type\":\"BasicTickFormatter\",\"id\":\"d8f84276-0c60-46a2-c679-e3d3417d7849\"},\"ticker\":{\"type\":\"BasicTicker\",\"id\":\"78b1c040-27e8-48fc-c89a-a00850c8fc2e\"},\"plot\":{\"id\":\"3d45818a-b5bc-48e0-c871-129881dfe385\",\"type\":\"Plot\",\"subtype\":\"Figure\"},\"axis_label\":\"EPOCHS\",\"id\":\"58a0b646-0879-4622-c6ba-6be7f1680868\",\"doc\":null,\"tags\":[]}},{\"id\":\"90cd3bab-7862-4102-c12a-1a4193098f73\",\"type\":\"Grid\",\"attributes\":{\"dimension\":0,\"plot\":{\"id\":\"3d45818a-b5bc-48e0-c871-129881dfe385\",\"type\":\"Plot\",\"subtype\":\"Figure\"},\"ticker\":{\"type\":\"BasicTicker\",\"id\":\"78b1c040-27e8-48fc-c89a-a00850c8fc2e\"},\"id\":\"90cd3bab-7862-4102-c12a-1a4193098f73\",\"doc\":null,\"tags\":[]}},{\"id\":\"7d2b0a47-170c-4ac1-ca4a-6685398c9c2b\",\"type\":\"BasicTickFormatter\",\"attributes\":{\"id\":\"7d2b0a47-170c-4ac1-ca4a-6685398c9c2b\",\"tags\":[],\"doc\":null}},{\"id\":\"79655b13-5385-4dc0-cd9f-9c4590daca1a\",\"type\":\"BasicTicker\",\"attributes\":{\"num_minor_ticks\":5,\"id\":\"79655b13-5385-4dc0-cd9f-9c4590daca1a\",\"tags\":[],\"doc\":null}},{\"id\":\"49639db4-a51b-49a2-c935-bff03b70d736\",\"type\":\"LinearAxis\",\"attributes\":{\"formatter\":{\"type\":\"BasicTickFormatter\",\"id\":\"7d2b0a47-170c-4ac1-ca4a-6685398c9c2b\"},\"ticker\":{\"type\":\"BasicTicker\",\"id\":\"79655b13-5385-4dc0-cd9f-9c4590daca1a\"},\"plot\":{\"id\":\"3d45818a-b5bc-48e0-c871-129881dfe385\",\"type\":\"Plot\",\"subtype\":\"Figure\"},\"axis_label\":null,\"id\":\"49639db4-a51b-49a2-c935-bff03b70d736\",\"doc\":null,\"tags\":[]}},{\"id\":\"ae0cac3b-e2e6-4604-c6ee-599419a12508\",\"type\":\"Grid\",\"attributes\":{\"dimension\":1,\"plot\":{\"id\":\"3d45818a-b5bc-48e0-c871-129881dfe385\",\"type\":\"Plot\",\"subtype\":\"Figure\"},\"ticker\":{\"type\":\"BasicTicker\",\"id\":\"79655b13-5385-4dc0-cd9f-9c4590daca1a\"},\"id\":\"ae0cac3b-e2e6-4604-c6ee-599419a12508\",\"doc\":null,\"tags\":[]}},{\"id\":\"68582311-abde-4789-c715-78a4d0c0d2cc\",\"type\":\"PanTool\",\"attributes\":{\"plot\":{\"id\":\"3d45818a-b5bc-48e0-c871-129881dfe385\",\"type\":\"Plot\",\"subtype\":\"Figure\"},\"dimensions\":[\"width\",\"height\"],\"id\":\"68582311-abde-4789-c715-78a4d0c0d2cc\",\"doc\":null,\"tags\":[]}},{\"id\":\"54fb40ed-43a2-470e-c73d-0ef9f3665fbd\",\"type\":\"WheelZoomTool\",\"attributes\":{\"plot\":{\"id\":\"3d45818a-b5bc-48e0-c871-129881dfe385\",\"type\":\"Plot\",\"subtype\":\"Figure\"},\"dimensions\":[\"width\",\"height\"],\"id\":\"54fb40ed-43a2-470e-c73d-0ef9f3665fbd\",\"doc\":null,\"tags\":[]}},{\"id\":\"238a02b3-e1bd-462f-c61c-130de7b273f2\",\"type\":\"BoxZoomTool\",\"attributes\":{\"plot\":{\"id\":\"3d45818a-b5bc-48e0-c871-129881dfe385\",\"type\":\"Plot\",\"subtype\":\"Figure\"},\"id\":\"238a02b3-e1bd-462f-c61c-130de7b273f2\",\"tags\":[],\"doc\":null}},{\"id\":\"1f4bd097-4ffe-4fdd-cf4e-0f2c2a6b99f4\",\"type\":\"PreviewSaveTool\",\"attributes\":{\"plot\":{\"id\":\"3d45818a-b5bc-48e0-c871-129881dfe385\",\"type\":\"Plot\",\"subtype\":\"Figure\"},\"id\":\"1f4bd097-4ffe-4fdd-cf4e-0f2c2a6b99f4\",\"tags\":[],\"doc\":null}},{\"id\":\"1f07709c-9180-46ad-c656-0a5c28549279\",\"type\":\"ResizeTool\",\"attributes\":{\"plot\":{\"id\":\"3d45818a-b5bc-48e0-c871-129881dfe385\",\"type\":\"Plot\",\"subtype\":\"Figure\"},\"id\":\"1f07709c-9180-46ad-c656-0a5c28549279\",\"tags\":[],\"doc\":null}},{\"id\":\"c9ad566e-7db4-47e1-c7e4-45f268caa4b7\",\"type\":\"ResetTool\",\"attributes\":{\"plot\":{\"id\":\"3d45818a-b5bc-48e0-c871-129881dfe385\",\"type\":\"Plot\",\"subtype\":\"Figure\"},\"id\":\"c9ad566e-7db4-47e1-c7e4-45f268caa4b7\",\"tags\":[],\"doc\":null}},{\"id\":\"726d9651-26a7-4dbc-cde2-0196622ddb44\",\"type\":\"Legend\",\"attributes\":{\"plot\":{\"id\":\"3d45818a-b5bc-48e0-c871-129881dfe385\",\"type\":\"Plot\",\"subtype\":\"Figure\"},\"legends\":[[\"trainAccuracy\",[{\"type\":\"GlyphRenderer\",\"id\":\"6761a806-b16f-4d65-cdfb-ac8a32d052d3\"}]],[\"valAccuracy\",[{\"type\":\"GlyphRenderer\",\"id\":\"ba89f1af-8906-4b2e-cb32-cc24feeefc78\"}]]],\"id\":\"726d9651-26a7-4dbc-cde2-0196622ddb44\",\"doc\":null,\"tags\":[]}},{\"id\":\"3d45818a-b5bc-48e0-c871-129881dfe385\",\"type\":\"Plot\",\"attributes\":{\"x_range\":{\"type\":\"DataRange1d\",\"id\":\"6a3bde1f-0946-44d8-c4ae-464b440e8a88\"},\"tool_events\":{\"type\":\"ToolEvents\",\"id\":\"70af5f75-a406-4cb3-ccd2-c2d320ffe43a\"},\"below\":[{\"type\":\"LinearAxis\",\"id\":\"58a0b646-0879-4622-c6ba-6be7f1680868\"}],\"renderers\":[{\"type\":\"GlyphRenderer\",\"id\":\"6761a806-b16f-4d65-cdfb-ac8a32d052d3\"},{\"type\":\"GlyphRenderer\",\"id\":\"ba89f1af-8906-4b2e-cb32-cc24feeefc78\"},{\"type\":\"LinearAxis\",\"id\":\"58a0b646-0879-4622-c6ba-6be7f1680868\"},{\"type\":\"Grid\",\"id\":\"90cd3bab-7862-4102-c12a-1a4193098f73\"},{\"type\":\"LinearAxis\",\"id\":\"49639db4-a51b-49a2-c935-bff03b70d736\"},{\"type\":\"Grid\",\"id\":\"ae0cac3b-e2e6-4604-c6ee-599419a12508\"},{\"type\":\"Legend\",\"id\":\"726d9651-26a7-4dbc-cde2-0196622ddb44\"}],\"above\":[],\"tools\":[{\"type\":\"PanTool\",\"id\":\"68582311-abde-4789-c715-78a4d0c0d2cc\"},{\"type\":\"WheelZoomTool\",\"id\":\"54fb40ed-43a2-470e-c73d-0ef9f3665fbd\"},{\"type\":\"BoxZoomTool\",\"id\":\"238a02b3-e1bd-462f-c61c-130de7b273f2\"},{\"type\":\"PreviewSaveTool\",\"id\":\"1f4bd097-4ffe-4fdd-cf4e-0f2c2a6b99f4\"},{\"type\":\"ResizeTool\",\"id\":\"1f07709c-9180-46ad-c656-0a5c28549279\"},{\"type\":\"ResetTool\",\"id\":\"c9ad566e-7db4-47e1-c7e4-45f268caa4b7\"}],\"doc\":null,\"right\":[],\"title\":\"Overfitting Check: Accuracy\",\"extra_x_ranges\":{},\"left\":[{\"type\":\"LinearAxis\",\"id\":\"49639db4-a51b-49a2-c935-bff03b70d736\"}],\"y_range\":{\"type\":\"DataRange1d\",\"id\":\"c2b03050-7182-4818-c81f-517947bf8a35\"},\"id\":\"3d45818a-b5bc-48e0-c871-129881dfe385\",\"extra_y_ranges\":{},\"tags\":[]}}];\n",
       "  Bokeh.load_models(all_models);\n",
       "  var model = Bokeh.Collections(modeltype).get(modelid);\n",
       "  $(\"#86917684-608d-4f6b-cff3-146a5c5197c7\").html(''); // clear any previous plot in window_id\n",
       "  var view = new model.default_view({model: model, el: \"#86917684-608d-4f6b-cff3-146a5c5197c7\"});\n",
       "    } else {\n",
       "  load_lib(bokehjs_url, function() {\n",
       "      console.log(\"Bokeh: BokehJS plotting callback run at\", new Date())\n",
       "      var modelid = \"3d45818a-b5bc-48e0-c871-129881dfe385\";\n",
       "      var modeltype = \"Plot\";\n",
       "      var all_models = [{\"id\":\"bb20367c-45be-4187-c160-91a65e1b87ee\",\"type\":\"ColumnDataSource\",\"attributes\":{\"data\":{\"y\":[0.61564797794118,0.65684742647059,0.66548713235294,0.66854319852941,0.67306985294118,0.67587316176471,0.67734375,0.67591911764706,0.68019301470588,0.68145680147059,0.68223805147059,0.68662683823529,0.68968290441176,0.68984375,0.69115349264706,0.68949908088235,0.69223345588235,0.69188878676471,0.69303768382353,0.69377297794118,0.69283088235294,0.69441636029412,0.69646139705882,0.69595588235294,0.69765625],\"x\":[1,2,3,4,5,6,7,8,9,10,11,12,13,14,15,16,17,18,19,20,21,22,23,24,25]},\"column_names\":[\"y\",\"x\"],\"cont_ranges\":{},\"discrete_ranges\":{},\"selected\":[],\"id\":\"bb20367c-45be-4187-c160-91a65e1b87ee\",\"doc\":null,\"tags\":[]}},{\"id\":\"75deb4e1-de4b-4277-c2b6-03402a290f7d\",\"type\":\"Line\",\"attributes\":{\"fill_alpha\":{\"units\":\"data\",\"value\":0.2},\"line_alpha\":{\"units\":\"data\",\"value\":1},\"doc\":null,\"size\":{\"units\":\"screen\",\"value\":10},\"fill_color\":{\"value\":\"red\"},\"line_color\":{\"value\":\"red\"},\"x\":{\"units\":\"data\",\"field\":\"x\"},\"id\":\"75deb4e1-de4b-4277-c2b6-03402a290f7d\",\"y\":{\"units\":\"data\",\"field\":\"y\"},\"tags\":[]}},{\"id\":\"c77fc70e-c027-4bdd-cb74-9efe64b30c3f\",\"type\":\"Line\",\"attributes\":{\"fill_alpha\":{\"units\":\"data\",\"value\":0.2},\"line_alpha\":{\"units\":\"data\",\"value\":1},\"doc\":null,\"size\":{\"units\":\"screen\",\"value\":10},\"fill_color\":{\"value\":\"red\"},\"line_color\":{\"value\":\"red\"},\"x\":{\"units\":\"data\",\"field\":\"x\"},\"id\":\"c77fc70e-c027-4bdd-cb74-9efe64b30c3f\",\"y\":{\"units\":\"data\",\"field\":\"y\"},\"tags\":[]}},{\"id\":\"6761a806-b16f-4d65-cdfb-ac8a32d052d3\",\"type\":\"GlyphRenderer\",\"attributes\":{\"name\":null,\"nonselection_glyph\":{\"type\":\"Line\",\"id\":\"c77fc70e-c027-4bdd-cb74-9efe64b30c3f\"},\"doc\":null,\"server_data_source\":null,\"data_source\":{\"type\":\"ColumnDataSource\",\"id\":\"bb20367c-45be-4187-c160-91a65e1b87ee\"},\"glyph\":{\"type\":\"Line\",\"id\":\"75deb4e1-de4b-4277-c2b6-03402a290f7d\"},\"selection_glyph\":null,\"id\":\"6761a806-b16f-4d65-cdfb-ac8a32d052d3\",\"tags\":[]}},{\"id\":\"94195310-aa19-4ca4-ccff-ddd71d30ae2e\",\"type\":\"ColumnDataSource\",\"attributes\":{\"data\":{\"y\":[0.64234834558824,0.62522977941176,0.61937040441176,0.626953125,0.62431066176471,0.65682444852941,0.66096047794118,0.65625,0.66567095588235,0.66107536764706,0.65866268382353,0.65590533088235,0.67279411764706,0.66061580882353,0.65303308823529,0.66727941176471,0.65521599264706,0.68347886029412,0.67221966911765,0.67899816176471,0.68072150735294,0.66394761029412,0.66486672794118,0.68520220588235,0.66934742647059],\"x\":[1,2,3,4,5,6,7,8,9,10,11,12,13,14,15,16,17,18,19,20,21,22,23,24,25]},\"column_names\":[\"y\",\"x\"],\"cont_ranges\":{},\"discrete_ranges\":{},\"selected\":[],\"id\":\"94195310-aa19-4ca4-ccff-ddd71d30ae2e\",\"doc\":null,\"tags\":[]}},{\"id\":\"1a51a132-5544-45d0-c517-c7413397c262\",\"type\":\"Line\",\"attributes\":{\"fill_alpha\":{\"units\":\"data\",\"value\":0.2},\"line_alpha\":{\"units\":\"data\",\"value\":1},\"doc\":null,\"size\":{\"units\":\"screen\",\"value\":10},\"fill_color\":{\"value\":\"blue\"},\"line_color\":{\"value\":\"blue\"},\"x\":{\"units\":\"data\",\"field\":\"x\"},\"id\":\"1a51a132-5544-45d0-c517-c7413397c262\",\"y\":{\"units\":\"data\",\"field\":\"y\"},\"tags\":[]}},{\"id\":\"bb1614d0-945b-49bc-c939-478134e839e5\",\"type\":\"Line\",\"attributes\":{\"fill_alpha\":{\"units\":\"data\",\"value\":0.2},\"line_alpha\":{\"units\":\"data\",\"value\":1},\"doc\":null,\"size\":{\"units\":\"screen\",\"value\":10},\"fill_color\":{\"value\":\"blue\"},\"line_color\":{\"value\":\"blue\"},\"x\":{\"units\":\"data\",\"field\":\"x\"},\"id\":\"bb1614d0-945b-49bc-c939-478134e839e5\",\"y\":{\"units\":\"data\",\"field\":\"y\"},\"tags\":[]}},{\"id\":\"ba89f1af-8906-4b2e-cb32-cc24feeefc78\",\"type\":\"GlyphRenderer\",\"attributes\":{\"name\":null,\"nonselection_glyph\":{\"type\":\"Line\",\"id\":\"bb1614d0-945b-49bc-c939-478134e839e5\"},\"doc\":null,\"server_data_source\":null,\"data_source\":{\"type\":\"ColumnDataSource\",\"id\":\"94195310-aa19-4ca4-ccff-ddd71d30ae2e\"},\"glyph\":{\"type\":\"Line\",\"id\":\"1a51a132-5544-45d0-c517-c7413397c262\"},\"selection_glyph\":null,\"id\":\"ba89f1af-8906-4b2e-cb32-cc24feeefc78\",\"tags\":[]}},{\"id\":\"6a3bde1f-0946-44d8-c4ae-464b440e8a88\",\"type\":\"DataRange1d\",\"attributes\":{\"sources\":[{\"columns\":[\"x\"],\"source\":{\"type\":\"ColumnDataSource\",\"id\":\"bb20367c-45be-4187-c160-91a65e1b87ee\"}},{\"columns\":[\"x\"],\"source\":{\"type\":\"ColumnDataSource\",\"id\":\"94195310-aa19-4ca4-ccff-ddd71d30ae2e\"}}],\"id\":\"6a3bde1f-0946-44d8-c4ae-464b440e8a88\",\"tags\":[],\"doc\":null}},{\"id\":\"c2b03050-7182-4818-c81f-517947bf8a35\",\"type\":\"DataRange1d\",\"attributes\":{\"sources\":[{\"columns\":[\"y\"],\"source\":{\"type\":\"ColumnDataSource\",\"id\":\"bb20367c-45be-4187-c160-91a65e1b87ee\"}},{\"columns\":[\"y\"],\"source\":{\"type\":\"ColumnDataSource\",\"id\":\"94195310-aa19-4ca4-ccff-ddd71d30ae2e\"}}],\"id\":\"c2b03050-7182-4818-c81f-517947bf8a35\",\"tags\":[],\"doc\":null}},{\"id\":\"70af5f75-a406-4cb3-ccd2-c2d320ffe43a\",\"type\":\"ToolEvents\",\"attributes\":{\"tags\":[],\"id\":\"70af5f75-a406-4cb3-ccd2-c2d320ffe43a\",\"geometries\":[],\"doc\":null}},{\"id\":\"d8f84276-0c60-46a2-c679-e3d3417d7849\",\"type\":\"BasicTickFormatter\",\"attributes\":{\"id\":\"d8f84276-0c60-46a2-c679-e3d3417d7849\",\"tags\":[],\"doc\":null}},{\"id\":\"78b1c040-27e8-48fc-c89a-a00850c8fc2e\",\"type\":\"BasicTicker\",\"attributes\":{\"num_minor_ticks\":5,\"id\":\"78b1c040-27e8-48fc-c89a-a00850c8fc2e\",\"tags\":[],\"doc\":null}},{\"id\":\"58a0b646-0879-4622-c6ba-6be7f1680868\",\"type\":\"LinearAxis\",\"attributes\":{\"formatter\":{\"type\":\"BasicTickFormatter\",\"id\":\"d8f84276-0c60-46a2-c679-e3d3417d7849\"},\"ticker\":{\"type\":\"BasicTicker\",\"id\":\"78b1c040-27e8-48fc-c89a-a00850c8fc2e\"},\"plot\":{\"id\":\"3d45818a-b5bc-48e0-c871-129881dfe385\",\"type\":\"Plot\",\"subtype\":\"Figure\"},\"axis_label\":\"EPOCHS\",\"id\":\"58a0b646-0879-4622-c6ba-6be7f1680868\",\"doc\":null,\"tags\":[]}},{\"id\":\"90cd3bab-7862-4102-c12a-1a4193098f73\",\"type\":\"Grid\",\"attributes\":{\"dimension\":0,\"plot\":{\"id\":\"3d45818a-b5bc-48e0-c871-129881dfe385\",\"type\":\"Plot\",\"subtype\":\"Figure\"},\"ticker\":{\"type\":\"BasicTicker\",\"id\":\"78b1c040-27e8-48fc-c89a-a00850c8fc2e\"},\"id\":\"90cd3bab-7862-4102-c12a-1a4193098f73\",\"doc\":null,\"tags\":[]}},{\"id\":\"7d2b0a47-170c-4ac1-ca4a-6685398c9c2b\",\"type\":\"BasicTickFormatter\",\"attributes\":{\"id\":\"7d2b0a47-170c-4ac1-ca4a-6685398c9c2b\",\"tags\":[],\"doc\":null}},{\"id\":\"79655b13-5385-4dc0-cd9f-9c4590daca1a\",\"type\":\"BasicTicker\",\"attributes\":{\"num_minor_ticks\":5,\"id\":\"79655b13-5385-4dc0-cd9f-9c4590daca1a\",\"tags\":[],\"doc\":null}},{\"id\":\"49639db4-a51b-49a2-c935-bff03b70d736\",\"type\":\"LinearAxis\",\"attributes\":{\"formatter\":{\"type\":\"BasicTickFormatter\",\"id\":\"7d2b0a47-170c-4ac1-ca4a-6685398c9c2b\"},\"ticker\":{\"type\":\"BasicTicker\",\"id\":\"79655b13-5385-4dc0-cd9f-9c4590daca1a\"},\"plot\":{\"id\":\"3d45818a-b5bc-48e0-c871-129881dfe385\",\"type\":\"Plot\",\"subtype\":\"Figure\"},\"axis_label\":null,\"id\":\"49639db4-a51b-49a2-c935-bff03b70d736\",\"doc\":null,\"tags\":[]}},{\"id\":\"ae0cac3b-e2e6-4604-c6ee-599419a12508\",\"type\":\"Grid\",\"attributes\":{\"dimension\":1,\"plot\":{\"id\":\"3d45818a-b5bc-48e0-c871-129881dfe385\",\"type\":\"Plot\",\"subtype\":\"Figure\"},\"ticker\":{\"type\":\"BasicTicker\",\"id\":\"79655b13-5385-4dc0-cd9f-9c4590daca1a\"},\"id\":\"ae0cac3b-e2e6-4604-c6ee-599419a12508\",\"doc\":null,\"tags\":[]}},{\"id\":\"68582311-abde-4789-c715-78a4d0c0d2cc\",\"type\":\"PanTool\",\"attributes\":{\"plot\":{\"id\":\"3d45818a-b5bc-48e0-c871-129881dfe385\",\"type\":\"Plot\",\"subtype\":\"Figure\"},\"dimensions\":[\"width\",\"height\"],\"id\":\"68582311-abde-4789-c715-78a4d0c0d2cc\",\"doc\":null,\"tags\":[]}},{\"id\":\"54fb40ed-43a2-470e-c73d-0ef9f3665fbd\",\"type\":\"WheelZoomTool\",\"attributes\":{\"plot\":{\"id\":\"3d45818a-b5bc-48e0-c871-129881dfe385\",\"type\":\"Plot\",\"subtype\":\"Figure\"},\"dimensions\":[\"width\",\"height\"],\"id\":\"54fb40ed-43a2-470e-c73d-0ef9f3665fbd\",\"doc\":null,\"tags\":[]}},{\"id\":\"238a02b3-e1bd-462f-c61c-130de7b273f2\",\"type\":\"BoxZoomTool\",\"attributes\":{\"plot\":{\"id\":\"3d45818a-b5bc-48e0-c871-129881dfe385\",\"type\":\"Plot\",\"subtype\":\"Figure\"},\"id\":\"238a02b3-e1bd-462f-c61c-130de7b273f2\",\"tags\":[],\"doc\":null}},{\"id\":\"1f4bd097-4ffe-4fdd-cf4e-0f2c2a6b99f4\",\"type\":\"PreviewSaveTool\",\"attributes\":{\"plot\":{\"id\":\"3d45818a-b5bc-48e0-c871-129881dfe385\",\"type\":\"Plot\",\"subtype\":\"Figure\"},\"id\":\"1f4bd097-4ffe-4fdd-cf4e-0f2c2a6b99f4\",\"tags\":[],\"doc\":null}},{\"id\":\"1f07709c-9180-46ad-c656-0a5c28549279\",\"type\":\"ResizeTool\",\"attributes\":{\"plot\":{\"id\":\"3d45818a-b5bc-48e0-c871-129881dfe385\",\"type\":\"Plot\",\"subtype\":\"Figure\"},\"id\":\"1f07709c-9180-46ad-c656-0a5c28549279\",\"tags\":[],\"doc\":null}},{\"id\":\"c9ad566e-7db4-47e1-c7e4-45f268caa4b7\",\"type\":\"ResetTool\",\"attributes\":{\"plot\":{\"id\":\"3d45818a-b5bc-48e0-c871-129881dfe385\",\"type\":\"Plot\",\"subtype\":\"Figure\"},\"id\":\"c9ad566e-7db4-47e1-c7e4-45f268caa4b7\",\"tags\":[],\"doc\":null}},{\"id\":\"726d9651-26a7-4dbc-cde2-0196622ddb44\",\"type\":\"Legend\",\"attributes\":{\"plot\":{\"id\":\"3d45818a-b5bc-48e0-c871-129881dfe385\",\"type\":\"Plot\",\"subtype\":\"Figure\"},\"legends\":[[\"trainAccuracy\",[{\"type\":\"GlyphRenderer\",\"id\":\"6761a806-b16f-4d65-cdfb-ac8a32d052d3\"}]],[\"valAccuracy\",[{\"type\":\"GlyphRenderer\",\"id\":\"ba89f1af-8906-4b2e-cb32-cc24feeefc78\"}]]],\"id\":\"726d9651-26a7-4dbc-cde2-0196622ddb44\",\"doc\":null,\"tags\":[]}},{\"id\":\"3d45818a-b5bc-48e0-c871-129881dfe385\",\"type\":\"Plot\",\"attributes\":{\"x_range\":{\"type\":\"DataRange1d\",\"id\":\"6a3bde1f-0946-44d8-c4ae-464b440e8a88\"},\"tool_events\":{\"type\":\"ToolEvents\",\"id\":\"70af5f75-a406-4cb3-ccd2-c2d320ffe43a\"},\"below\":[{\"type\":\"LinearAxis\",\"id\":\"58a0b646-0879-4622-c6ba-6be7f1680868\"}],\"renderers\":[{\"type\":\"GlyphRenderer\",\"id\":\"6761a806-b16f-4d65-cdfb-ac8a32d052d3\"},{\"type\":\"GlyphRenderer\",\"id\":\"ba89f1af-8906-4b2e-cb32-cc24feeefc78\"},{\"type\":\"LinearAxis\",\"id\":\"58a0b646-0879-4622-c6ba-6be7f1680868\"},{\"type\":\"Grid\",\"id\":\"90cd3bab-7862-4102-c12a-1a4193098f73\"},{\"type\":\"LinearAxis\",\"id\":\"49639db4-a51b-49a2-c935-bff03b70d736\"},{\"type\":\"Grid\",\"id\":\"ae0cac3b-e2e6-4604-c6ee-599419a12508\"},{\"type\":\"Legend\",\"id\":\"726d9651-26a7-4dbc-cde2-0196622ddb44\"}],\"above\":[],\"tools\":[{\"type\":\"PanTool\",\"id\":\"68582311-abde-4789-c715-78a4d0c0d2cc\"},{\"type\":\"WheelZoomTool\",\"id\":\"54fb40ed-43a2-470e-c73d-0ef9f3665fbd\"},{\"type\":\"BoxZoomTool\",\"id\":\"238a02b3-e1bd-462f-c61c-130de7b273f2\"},{\"type\":\"PreviewSaveTool\",\"id\":\"1f4bd097-4ffe-4fdd-cf4e-0f2c2a6b99f4\"},{\"type\":\"ResizeTool\",\"id\":\"1f07709c-9180-46ad-c656-0a5c28549279\"},{\"type\":\"ResetTool\",\"id\":\"c9ad566e-7db4-47e1-c7e4-45f268caa4b7\"}],\"doc\":null,\"right\":[],\"title\":\"Overfitting Check: Accuracy\",\"extra_x_ranges\":{},\"left\":[{\"type\":\"LinearAxis\",\"id\":\"49639db4-a51b-49a2-c935-bff03b70d736\"}],\"y_range\":{\"type\":\"DataRange1d\",\"id\":\"c2b03050-7182-4818-c81f-517947bf8a35\"},\"id\":\"3d45818a-b5bc-48e0-c871-129881dfe385\",\"extra_y_ranges\":{},\"tags\":[]}}];\n",
       "      Bokeh.load_models(all_models);\n",
       "      var model = Bokeh.Collections(modeltype).get(modelid);\n",
       "      $(\"#86917684-608d-4f6b-cff3-146a5c5197c7\").html(''); // clear any previous plot in window_id\n",
       "      var view = new model.default_view({model: model, el: \"#86917684-608d-4f6b-cff3-146a5c5197c7\"});\n",
       "  });\n",
       "    }\n",
       "});\n",
       "</script>\n",
       "<div class=\"plotdiv\" id=\"86917684-608d-4f6b-cff3-146a5c5197c7\"></div>\n"
      ]
     },
     "metadata": {},
     "output_type": "display_data"
    }
   ],
   "source": [
    "local plot = Plot()\n",
    "plot:line(x, trainingStats.trainAccuracy ,'red' ,'trainAccuracy')\n",
    "plot:line(x, trainingStats.valAccuracy,'blue','valAccuracy')\n",
    "plot:xaxis('EPOCHS')\n",
    "plot:legend(true):title('Overfitting Check: Accuracy')\n",
    "plot:draw() -- or plot:draw() or plot:html()"
   ]
  },
  {
   "cell_type": "code",
   "execution_count": null,
   "metadata": {
    "collapsed": true
   },
   "outputs": [],
   "source": []
  }
 ],
 "metadata": {
  "kernelspec": {
   "display_name": "iTorch",
   "language": "lua",
   "name": "itorch"
  },
  "language_info": {
   "name": "lua",
   "version": "5.1"
  }
 },
 "nbformat": 4,
 "nbformat_minor": 1
}
