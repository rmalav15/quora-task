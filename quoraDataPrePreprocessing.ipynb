{
 "cells": [
  {
   "cell_type": "code",
   "execution_count": null,
   "metadata": {
    "collapsed": true
   },
   "outputs": [],
   "source": [
    "import h5py\n",
    "import numpy as np\n",
    "from gensim.scripts.glove2word2vec import glove2word2vec\n",
    "from gensim.models import KeyedVectors\n",
    "import csv\n",
    "from nltk.tokenize import word_tokenize\n",
    "from nltk.corpus import stopwords\n",
    "import os.path\n",
    "stopWords = stopwords.words('english')"
   ]
  },
  {
   "cell_type": "markdown",
   "metadata": {},
   "source": [
    "# Options"
   ]
  },
  {
   "cell_type": "code",
   "execution_count": null,
   "metadata": {
    "collapsed": true
   },
   "outputs": [],
   "source": [
    "#convert glove to word2vec format\n",
    "gloveFileName = \"glove.6B/glove.6B.50d.txt\"\n",
    "word2vecFileName = \"glove.6B/glove.6B.50d.word2vec.txt\"\n",
    "\n",
    "trainCSVPath = \"train.csv\"\n",
    "testCSVPath = \"test.csv\"\n",
    "\n",
    "keepStopWords = True\n",
    "specialCharacters = [\".\",\",\",\"'\",\"/\",\":\",\";\",'\"',\"*\",\"?\",\"+\",\"[\",\"]\",\"(\",\")\",\"<\",\">\",\"=\",\",\",\"-\",\"^\"]\n",
    "\n",
    "finalLenWordVec = 55  #PCA IS A SOLUTION\n",
    "                    #MultiThreading\n",
    "padding_word = \"-\"\n",
    "useNltkTokenizer = True"
   ]
  },
  {
   "cell_type": "markdown",
   "metadata": {},
   "source": [
    "# Load Model"
   ]
  },
  {
   "cell_type": "code",
   "execution_count": null,
   "metadata": {
    "collapsed": true
   },
   "outputs": [],
   "source": [
    "if not os.path.isfile(word2vecFileName): \n",
    "    print \"converting glob to word2vec model\"\n",
    "    glove2word2vec(gloveFileName, word2vecFileName)\n",
    "    \n",
    "model = KeyedVectors.load_word2vec_format(word2vecFileName, binary=False)\n",
    "\n",
    "modelVocab = list(model.wv.vocab)"
   ]
  },
  {
   "cell_type": "markdown",
   "metadata": {},
   "source": [
    "# Load Data From train CSV"
   ]
  },
  {
   "cell_type": "code",
   "execution_count": null,
   "metadata": {
    "collapsed": true
   },
   "outputs": [],
   "source": [
    "question1Lang = []\n",
    "question2Lang = []\n",
    "isSimilar = []\n",
    "\n",
    "with open(trainCSVPath) as trainCSV:\n",
    "    trainData = csv.DictReader(trainCSV, delimiter=',')\n",
    "    for row in trainData:\n",
    "        question1Lang.append(row['question1'])\n",
    "        question2Lang.append(row['question2'])\n",
    "        isSimilar.append(row['is_duplicate'])\n",
    "print len(question1Lang), len(question2Lang), len(isSimilar) "
   ]
  },
  {
   "cell_type": "markdown",
   "metadata": {},
   "source": [
    "# Helper Functions"
   ]
  },
  {
   "cell_type": "code",
   "execution_count": null,
   "metadata": {
    "collapsed": true
   },
   "outputs": [],
   "source": [
    "def removeSpecialCharacters(sentence):\n",
    "    for character in specialCharacters:\n",
    "        sentence = sentence.replace(character,\" \")\n",
    "    #sentence = sentence.replace(\"&\",\"and\")\n",
    "    return sentence\n",
    "\n",
    "padding = model[padding_word]\n",
    "\n",
    "def padVector(vector, finalLen):\n",
    "    l = len(vector)\n",
    "    if finalLen < l:\n",
    "        vector = vector[-finalLen:]\n",
    "    \n",
    "    elif finalLen > l:\n",
    "        padVec = [padding]*(finalLen-l)\n",
    "        vector = padVec + vector\n",
    "    \n",
    "    return vector\n",
    "        \n",
    "\n",
    "def sen2vec(sentence):\n",
    "    sentence = removeSpecialCharacters(sentence)\n",
    "    vector = []\n",
    "    \n",
    "    if useNltkTokenizer:\n",
    "        try:\n",
    "            words = word_tokenize(sentence)\n",
    "        except:\n",
    "            return False,[]\n",
    "    \n",
    "    else:\n",
    "        words = sentence.split(\" \")\n",
    "        if \" \" in words:\n",
    "            words.remove(\" \")\n",
    "        if \"\" in words:\n",
    "            words.remove(\"\")\n",
    "\n",
    "    \n",
    "    words = [w.lower() for w in words]\n",
    "\n",
    "    if not keepStopWords:\n",
    "        words = [w for w in words if w not in stopWords]\n",
    "\n",
    "    for word in words:\n",
    "        if word not in modelVocab:\n",
    "            return False,[]\n",
    "        \n",
    "        word2vec = model[word]\n",
    "        vector.append(word2vec)\n",
    "\n",
    "    vector = padVector(vector, finalLenWordVec)\n",
    "\n",
    "    return True, vector"
   ]
  },
  {
   "cell_type": "markdown",
   "metadata": {},
   "source": [
    "# Main"
   ]
  },
  {
   "cell_type": "code",
   "execution_count": null,
   "metadata": {
    "collapsed": true,
    "scrolled": true
   },
   "outputs": [],
   "source": [
    "##DATA IS NOT NORMALIZED \n",
    "\n",
    "question1Data = []\n",
    "question2Data = []\n",
    "label = []\n",
    "saveFileName = 'train0to10000.h5py'\n",
    "\n",
    "for index in range(10000):#range(len(question1Lang)):\n",
    "    #if index%100 == 0:\n",
    "    #    print \"processed: \", index\n",
    "        \n",
    "    question1 = question1Lang[index]\n",
    "    question2 = question2Lang[index]\n",
    "    \n",
    "    q1success, q1vec = sen2vec(question1)\n",
    "    q2success, q2vec = sen2vec(question2)\n",
    "    \n",
    "    if q1success and q2success:\n",
    "        #print index\n",
    "        question1Data.append(q1vec)\n",
    "        question2Data.append(q2vec)\n",
    "        label.append(int(isSimilar[index]))\n",
    "        \n",
    "question1Data = np.array(question1Data)\n",
    "question2Data = np.array(question2Data)\n",
    "label = np.array(label)\n",
    "\n",
    "with h5py.File(saveFileName,'w') as pr:\n",
    "    pr.create_dataset('question1',data = question1Data)\n",
    "    pr.create_dataset('question2',data = question2Data)\n",
    "    pr.create_dataset('label', data = label)"
   ]
  }
 ],
 "metadata": {
  "kernelspec": {
   "display_name": "Python 2",
   "language": "python",
   "name": "python2"
  },
  "language_info": {
   "codemirror_mode": {
    "name": "ipython",
    "version": 2
   },
   "file_extension": ".py",
   "mimetype": "text/x-python",
   "name": "python",
   "nbconvert_exporter": "python",
   "pygments_lexer": "ipython2",
   "version": "2.7.6"
  }
 },
 "nbformat": 4,
 "nbformat_minor": 1
}
